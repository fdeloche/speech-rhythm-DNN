{
 "cells": [
  {
   "cell_type": "code",
   "execution_count": null,
   "metadata": {},
   "outputs": [],
   "source": [
    "import numpy as np\n",
    "\n",
    "import tensorflow as tf\n",
    "import tensorflow.keras.optimizers as optimizers\n",
    "\n",
    "from model import *\n",
    "from input import NetworkInput\n",
    "from config import *\n",
    "\n",
    "\n",
    "from tensorflow.keras.models import Model\n",
    "\n",
    "from data import ScoresComputer\n",
    "\n",
    "from data import createFeaturesDescription\n",
    "\n",
    "import soundfile as sf\n",
    "\n",
    "import parselmouth\n",
    "\n",
    "import numpy as np\n",
    "from matplotlib import rcParams\n",
    "import matplotlib.pyplot as pl\n",
    "import seaborn as sns\n",
    "\n",
    "import scipy.signal as sg"
   ]
  },
  {
   "cell_type": "code",
   "execution_count": null,
   "metadata": {},
   "outputs": [],
   "source": [
    "\n",
    "rcParams['figure.figsize'] = 7, 5"
   ]
  },
  {
   "cell_type": "markdown",
   "metadata": {},
   "source": [
    "### Test features"
   ]
  },
  {
   "cell_type": "code",
   "execution_count": null,
   "metadata": {},
   "outputs": [],
   "source": [
    "#filename=  'ex_Files/English/TIMIT_SA2.WAV'\n",
    "filename='./ex_Files/English/RAMUS_ENL1155.wav'\n",
    "data, samplerate = sf.read(filename)\n",
    "snd = parselmouth.Sound(filename)"
   ]
  },
  {
   "cell_type": "markdown",
   "metadata": {},
   "source": [
    "#### Test Praat/Parselmouth (F0)"
   ]
  },
  {
   "cell_type": "code",
   "execution_count": null,
   "metadata": {},
   "outputs": [],
   "source": [
    "\n",
    "pl.figure()\n",
    "pl.plot(snd.xs(), snd.values.T)\n",
    "pl.xlim([snd.xmin, snd.xmax])\n",
    "pl.xlabel(\"time [s]\")\n",
    "pl.ylabel(\"amplitude\")\n",
    "pl.show() # or plt.savefig(\"sound.png\"), or plt.savefig(\"sound.pdf\")"
   ]
  },
  {
   "cell_type": "code",
   "execution_count": null,
   "metadata": {},
   "outputs": [],
   "source": [
    "\n",
    "\n",
    "plt=pl\n",
    "\n",
    "def draw_spectrogram(spectrogram, dynamic_range=70):\n",
    "    X, Y = spectrogram.x_grid(), spectrogram.y_grid()\n",
    "    sg_db = 10 * np.log10(spectrogram.values)\n",
    "    plt.pcolormesh(X, Y, sg_db, vmin=sg_db.max() - dynamic_range, cmap='afmhot')\n",
    "    plt.ylim([spectrogram.ymin, spectrogram.ymax])\n",
    "    plt.xlabel(\"time [s]\")\n",
    "    plt.ylabel(\"frequency [Hz]\")\n",
    "\n",
    "def draw_intensity(intensity, downsampling=1):\n",
    "    t=intensity.xs()[0::downsampling]\n",
    "    values= 10**(intensity.values.T[0::downsampling]/20.)\n",
    "    for k in range(1, downsampling):\n",
    "        values+=  10**(intensity.values.T[k::downsampling]/20.)\n",
    "    values/=downsampling\n",
    "    values=20*np.log10(values)\n",
    "    plt.plot(t, values, linewidth=3, color='w')\n",
    "    plt.plot(t, values, linewidth=1)\n",
    "    plt.grid(False)\n",
    "    #plt.ylim(0)\n",
    "    plt.ylabel(\"intensity [dB]\")\n",
    "\n",
    "intensity = snd.to_intensity()\n",
    "print(f'dt intensity before oversampling: {(intensity.xs()[1]-intensity.xs()[0])*1e3} ms')\n",
    "spectrogram = snd.to_spectrogram()\n",
    "plt.figure()\n",
    "draw_spectrogram(spectrogram)\n",
    "plt.twinx()\n",
    "draw_intensity(intensity, downsampling=4)\n",
    "plt.xlim([snd.xmin, snd.xmax])\n",
    "plt.show() # or plt.savefig(\"spectrogram.pdf\")"
   ]
  },
  {
   "cell_type": "code",
   "execution_count": null,
   "metadata": {},
   "outputs": [],
   "source": [
    "def draw_pitch(pitch):\n",
    "    # Extract selected pitch contour, and\n",
    "    # replace unvoiced samples by NaN to not plot\n",
    "    pitch_values = pitch.selected_array['frequency']\n",
    "    #pitch_values[pitch_values==0] = np.nan\n",
    "    plt.plot(pitch.xs(), pitch_values, 'o', markersize=5, color='w')\n",
    "    plt.plot(pitch.xs(), pitch_values, 'o', markersize=2)\n",
    "    plt.grid(False)\n",
    "    plt.ylim(0, pitch.ceiling)\n",
    "    plt.ylabel(\"fundamental frequency [Hz]\")\n",
    "\n",
    "pitch = snd.to_pitch(time_step=1/60., pitch_floor=75., pitch_ceiling=500.)\n",
    "# If desired, pre-emphasize the sound fragment before calculating the spectrogram\n",
    "pre_emphasized_snd = snd.copy()\n",
    "pre_emphasized_snd.pre_emphasize()\n",
    "spectrogram = pre_emphasized_snd.to_spectrogram(window_length=0.03, maximum_frequency=8000)\n",
    "plt.figure()\n",
    "draw_spectrogram(spectrogram)\n",
    "plt.twinx()\n",
    "draw_pitch(pitch)\n",
    "plt.xlim([snd.xmin, snd.xmax])\n",
    "plt.show() # or plt.savefig(\"spectrogram_0.03.pdf\")"
   ]
  },
  {
   "cell_type": "markdown",
   "metadata": {},
   "source": [
    "#### Test HP filter "
   ]
  },
  {
   "cell_type": "raw",
   "metadata": {},
   "source": [
    "                    -1              -M\n",
    "        b[0] + b[1]z  + ... + b[M] z\n",
    "Y(z) = -------------------------------- X(z)\n",
    "                    -1              -N\n",
    "        a[0] + a[1]z  + ... + a[N] z"
   ]
  },
  {
   "cell_type": "code",
   "execution_count": null,
   "metadata": {},
   "outputs": [],
   "source": [
    "#cut-off frequencies (cf Fant et al. 2000)\n",
    "fb=200 #HP\n",
    "fa=5000 #LP\n",
    "fs=samplerate\n",
    "\n",
    "coeff=2*fs\n",
    "B=coeff*1/(2*np.pi*fb)\n",
    "A=coeff*1/(2*np.pi*fa)\n",
    "\n",
    "b=np.array([B+1, 1-B])\n",
    "a=np.array([A+1, 1-A])\n",
    "\n",
    "w, h = sg.freqz(b, a)\n",
    "\n",
    "pl.figure()\n",
    "pl.plot(w/(2*np.pi)*fs, 20*np.log10(np.abs(h)))\n",
    "pl.xlim([0, 5000])\n",
    "pl.xlabel('f (Hz)')\n",
    "pl.ylabel('Emphasis (dB)')\n",
    "pl.show()\n",
    "\n",
    "def preemphasis(s):\n",
    "    '''Returns the filtered signal'''\n",
    "    return sg.lfilter(b, a, s)"
   ]
  },
  {
   "cell_type": "code",
   "execution_count": null,
   "metadata": {},
   "outputs": [],
   "source": [
    "data2 = preemphasis(data) #b, a\n",
    "snd2 = parselmouth.Sound(data2, sampling_frequency=samplerate)"
   ]
  },
  {
   "cell_type": "code",
   "execution_count": null,
   "metadata": {},
   "outputs": [],
   "source": [
    "intensity = snd.to_intensity()\n",
    "intensity2 = snd2.to_intensity()\n",
    "spectrogram = snd.to_spectrogram()\n",
    "plt.figure()\n",
    "draw_spectrogram(spectrogram)\n",
    "plt.twinx()\n",
    "draw_intensity(intensity, downsampling=4)\n",
    "draw_intensity(intensity2, downsampling=4)\n",
    "plt.xlim([snd.xmin, snd.xmax])\n",
    "\n",
    "plt.show() # or plt.savefig(\"spectrogram.pdf\""
   ]
  },
  {
   "cell_type": "markdown",
   "metadata": {},
   "source": [
    "### Test computeScores"
   ]
  },
  {
   "cell_type": "code",
   "execution_count": null,
   "metadata": {},
   "outputs": [],
   "source": [
    "filename='ex_Files/English/TIMIT_SA2.WAV'\n",
    "#filename='./Files_Ramus/English/ENL1155_normalise.wav'\n",
    "data, samplerate = sf.read(filename)\n",
    "snd = parselmouth.Sound(filename)"
   ]
  },
  {
   "cell_type": "code",
   "execution_count": null,
   "metadata": {},
   "outputs": [],
   "source": [
    "sComp=ScoresComputer(fs=samplerate)"
   ]
  },
  {
   "cell_type": "code",
   "execution_count": null,
   "metadata": {},
   "outputs": [],
   "source": [
    "scores= sComp.compute_scores(data)"
   ]
  },
  {
   "cell_type": "raw",
   "metadata": {},
   "source": [
    "# Check shapes\n",
    "\n",
    "for key, arr in scores.items():\n",
    "    print(key)\n",
    "    print(np.shape(arr))"
   ]
  },
  {
   "cell_type": "code",
   "execution_count": null,
   "metadata": {},
   "outputs": [],
   "source": [
    "\n",
    "def draw_scores(snd, scores, pitch_ceiling=500, stride=1, figsize=None, background_only=False, background=True, savefig=False):\n",
    "    \n",
    "    def make_patch_spines_invisible(ax):\n",
    "        ax.set_frame_on(True)\n",
    "        ax.patch.set_visible(False)\n",
    "        for sp in ax.spines.values():\n",
    "            sp.set_visible(False)\n",
    "            \n",
    "            \n",
    "    fig, host = plt.subplots(figsize=figsize)\n",
    "    fig.subplots_adjust(right=0.75)\n",
    "    par1 = host.twinx()\n",
    "    par2 = host.twinx()\n",
    "\n",
    "    # Offset the right spine of par2.  The ticks and label have already been\n",
    "    # placed on the right by twinx above.\n",
    "    par2.spines[\"right\"].set_position((\"axes\", 1.2))\n",
    "    # Having been created by twinx, par2 has its frame off, so the line of its\n",
    "    # detached spine is invisible.  First, activate the frame but make the patch\n",
    "    # and spines invisible.\n",
    "    make_patch_spines_invisible(par2)\n",
    "    # Second, show the right spine.\n",
    "    par2.spines[\"right\"].set_visible(True)\n",
    "\n",
    "    # If desired, pre-emphasize the sound fragment before calculating the spectrogram\n",
    "    pre_emphasized_snd = snd.copy()\n",
    "    pre_emphasized_snd.pre_emphasize()\n",
    "    spectrogram = pre_emphasized_snd.to_spectrogram(window_length=0.03, maximum_frequency=8000)\n",
    "    dynamic_range=65\n",
    "    \n",
    "    X, Y = spectrogram.x_grid(), spectrogram.y_grid()\n",
    "    sg_db = 10 * np.log10(spectrogram.values)\n",
    "    \n",
    "    if background_only or background:\n",
    "        host.pcolormesh(X, Y/1e3, sg_db, vmin=sg_db.max() - dynamic_range, vmax=sg_db.max()+dynamic_range/2,\n",
    "                        cmap='BuPu') #afmhot\n",
    "\n",
    "    host.set_xlim([snd.xmin, snd.xmax])\n",
    "    host.set_ylim([spectrogram.ymin/1e3, spectrogram.ymax/1e3])\n",
    "    if background_only:\n",
    "        \n",
    "        if filename=='./Files_Ramus/English/ENL1155_normalise.wav':\n",
    "\n",
    "            host.set_xlim(0.1, 2.85)\n",
    "        pl.savefig('test_data_background.png', dpi=200)\n",
    "        return\n",
    "    \n",
    "    host.set_xlabel(\"time [s]\")\n",
    "    host.set_ylabel(\"frequency [kHz/ x100 Hz]\")\n",
    "    \n",
    "    \n",
    "    #plt.twinx()\n",
    "    tmax=X[-1]\n",
    "\n",
    "    rmsdB0=20*np.log10(scores['rmsValue'])\n",
    "    HRmsdB0=20*np.log10(scores['HRmsValue'])\n",
    "    F00=scores['F0']\n",
    "    \n",
    "    #HACK\n",
    "    rem=len(rmsdB0)%stride\n",
    "    if rem!=0:\n",
    "        rmsdB0=np.pad(rmsdB0, (0, rem))\n",
    "        HRmsdB0=np.pad(HRmsdB0, (0, rem))\n",
    "        F00=np.pad(F00, (0, rem))\n",
    "\n",
    "        \n",
    "    rmsdB= rmsdB0[::stride]\n",
    "    HRmsdB= HRmsdB0[::stride]\n",
    "    F0= F00[::stride]\n",
    "    for k in range(1, stride):\n",
    "        rmsdB+= rmsdB0[k::stride]\n",
    "        HRmsdB+= HRmsdB0[k::stride]\n",
    "        #F0+= F00[k::stride]\n",
    "        \n",
    "    rmsdB/=stride\n",
    "    HRmsdB/=stride\n",
    "    #F0/=stride\n",
    "    \n",
    "            \n",
    "    t=np.linspace(0,tmax,len(rmsdB), endpoint=True)\n",
    "    \n",
    "    \n",
    "    par1.plot(t, HRmsdB, linewidth=4, color='chocolate')\n",
    "    par1.plot(t, HRmsdB, linewidth=2, color='orange')\n",
    "    \n",
    "    par1.plot(t, rmsdB, linewidth=5, color='gray')\n",
    "    p1,=par1.plot(t, rmsdB, linewidth=3, color='black')\n",
    "    \n",
    "    par1.grid(False)\n",
    "    #plt.ylim(0)\n",
    "    par1.set_ylabel(\"Intensity [dB] (ref:max)\")\n",
    "    \n",
    "    par2.plot(t, F0, 'o', markersize=12, color='ghostwhite')\n",
    "    p2,=par2.plot(t, F0, 'o', markersize=6, color='dodgerblue')\n",
    "    par2.grid(False)\n",
    "    par2.set_ylabel(\"F0 (Hz)\")\n",
    "    \n",
    "    par2.set_ylim(0, pitch.ceiling)\n",
    "    \n",
    "    par1.yaxis.label.set_color(p1.get_color())\n",
    "    #par2.yaxis.label.set_color(p2.get_color())\n",
    "    \n",
    "    par1.tick_params(axis='y', colors=p1.get_color())\n",
    "    \n",
    "    #par2.tick_params(axis='y', colors=p2.get_color())\n",
    "    \n",
    "    \n",
    "    #HACK\n",
    "    if filename=='./Files_Ramus/English/ENL1155_normalise.wav':\n",
    "        \n",
    "        par2.set_xlim(0.1, 2.85)\n",
    "        \n",
    "        par1.set_ylim(-75, 5)\n",
    "        par2.set_ylim([spectrogram.ymin/10, spectrogram.ymax/10])\n",
    "    \n",
    "    if savefig:\n",
    "        pl.savefig('test_data.svg')"
   ]
  },
  {
   "cell_type": "code",
   "execution_count": null,
   "metadata": {},
   "outputs": [],
   "source": [
    "draw_scores(snd, scores, pitch_ceiling=sComp.pitch_ceiling, stride=2, figsize=(10, 6), \n",
    "            savefig=False, background_only=False) #background=False\n"
   ]
  },
  {
   "cell_type": "markdown",
   "metadata": {},
   "source": [
    "### Test networkInput"
   ]
  },
  {
   "cell_type": "code",
   "execution_count": null,
   "metadata": {},
   "outputs": [],
   "source": [
    "batch_size=8\n",
    "num_steps=32\n",
    "config=Config(batch_size, num_steps)\n",
    "config=completedConfig(config) #take default params for unspecified params\n",
    "\n",
    "features_description=createFeaturesDescription(HRmsValue=False, F0=False) #Features RMS, RMS HP"
   ]
  },
  {
   "cell_type": "code",
   "execution_count": null,
   "metadata": {},
   "outputs": [],
   "source": [
    "networkInput = NetworkInput(config, folder='./ex_Scores', for_evaluation=True, \n",
    "                            features_description=features_description, use_deltas=True)"
   ]
  },
  {
   "cell_type": "code",
   "execution_count": null,
   "metadata": {},
   "outputs": [],
   "source": [
    "for ex in networkInput.sliced_batch.take(1):\n",
    "    pl.plot(ex[0][0][0])"
   ]
  },
  {
   "cell_type": "markdown",
   "metadata": {},
   "source": [
    "### Test for data augmentation"
   ]
  },
  {
   "cell_type": "code",
   "execution_count": null,
   "metadata": {},
   "outputs": [],
   "source": [
    "def _random_distorsion(t, n_sig=6, alpha_sigma=np.pi/10, a=12):\n",
    "    '''\n",
    "    n_sig: number of sigmoids\n",
    "    alpha_sigma: angle std deviation from pi/4\n",
    "    a: contraction factor (the lower the smoother)\n",
    "    '''\n",
    "    n=n_sig\n",
    "    pts_x = tf.linspace(0.,1.,n)\n",
    "    alpha_mean = np.pi/4\n",
    "    alpha_min = 0\n",
    "    alpha_max = np.pi/2 - np.pi/20\n",
    "    alpha = alpha_mean + alpha_sigma*tf.random.normal((n, ))\n",
    "    alpha = tf.math.maximum(alpha_min, alpha)\n",
    "    alpha = tf.math.minimum(alpha_max, alpha)\n",
    "    delta = 1./n*tf.math.tan(alpha)\n",
    "    #delta_cumsum = tf.math.cumsum(delta)\n",
    "\n",
    "    #variability on x knots\n",
    "    k=tf.range(n, dtype=tf.float32)\n",
    "    xk=(2*k+1)/(2*(n-1))+1/(3*n)*tf.random.normal((n, ))  \n",
    "    \n",
    "    res=delta[0]*(-0.1+0.1*tf.random.normal((1, ))*tf.ones_like(t))\n",
    "    ref=0.\n",
    "    for k in range(n):\n",
    "        res+=delta[k]*tf.math.sigmoid(a*(t-xk[k]))\n",
    "        ref+=delta[k]*tf.math.sigmoid(a*(1-xk[k]))\n",
    "    res/=ref\n",
    "    return res\n"
   ]
  },
  {
   "cell_type": "code",
   "execution_count": null,
   "metadata": {},
   "outputs": [],
   "source": [
    "t=tf.linspace(0.,1., 100)\n",
    "y=_random_distorsion(t)\n",
    "\n",
    "y2=_random_distorsion(t)\n",
    "pl.plot(t, y)\n",
    "pl.plot(t, y2)\n",
    "pl.ylim([-0.1, 1])"
   ]
  },
  {
   "cell_type": "markdown",
   "metadata": {},
   "source": [
    "### Print filenames"
   ]
  },
  {
   "cell_type": "code",
   "execution_count": null,
   "metadata": {},
   "outputs": [],
   "source": [
    "languages = [\"Danish\", \"Dutch\", \"English\", \"Finnish\",\n",
    "    \"French\", \"German\", \"Hungarian\", \"Italian\",\n",
    "    \"Japanese\", \"Korean\", \"Mandarin\", \"Polish\",\n",
    "    \"Portuguese\", \"Russian\", \"Spanish\",\n",
    "    \"Swedish\", \"Turkish\", \"Estonian\", \"Arabic\", \"Czech\", \"Romanian\",\n",
    "    \"Basque\", \"Catalan\"]  #NB: check that the order of elements is consistent with model\n",
    "\n",
    "#Remove languages with not enough data\n",
    "#languages.remove(\"Czech\")\n",
    "#languages.remove(\"Romanian\") \n",
    "\n",
    "batch_size=8\n",
    "num_steps=32\n",
    "config=Config(batch_size, num_steps)\n",
    "config=completedConfig(config) #take default params for unspecified params\n",
    "\n",
    "languages_model=[\"Danish\", \"Dutch\", \"English\", \"Finnish\",\n",
    "    \"French\", \"German\", \"Hungarian\", \"Italian\",\n",
    "    \"Japanese\", \"Korean\", \"Mandarin\", \"Polish\",\n",
    "    \"Portuguese\", \"Russian\", \"Spanish\",\n",
    "    \"Swedish\", \"Turkish\", \"Estonian\", \"Arabic\", \"Czech\", \"Romanian\",\n",
    "    \"Basque\", \"Catalan\"] \n",
    "scores_folder='./Scores'\n",
    "balanced_dataset_folder='balanced_20_1'\n",
    "TFRecords_batch_size= 16\n",
    "subfolders=[balanced_dataset_folder]\n",
    "initial_sample_length=10*2**14\n",
    "use_deltas=True\n",
    "features_description=createFeaturesDescription(HRmsValue=True, F0=True)\n",
    "F0_binary_values=True\n",
    "\n",
    "networkInput=NetworkInput(config, folder=scores_folder, for_evaluation=True,\n",
    "        subfolder=subfolders,\n",
    "            stride=2, verbose=True,                                    \n",
    "             languages=languages, languages_model=languages_model, features_description=features_description,\n",
    "               initial_sample_length=initial_sample_length, TFRecords_batch_size=TFRecords_batch_size,\n",
    "                              use_deltas=use_deltas,\n",
    "                             F0_binary_values=F0_binary_values) #autodetect languages\n"
   ]
  },
  {
   "cell_type": "code",
   "execution_count": null,
   "metadata": {},
   "outputs": [],
   "source": [
    "ind_file=0\n",
    "language_target='French'\n",
    "for i, trueBatch in enumerate(networkInput.sliced_batch):\n",
    "    if (i%networkInput.num_slices_by_example)==0:\n",
    "        x, y, w= trueBatch\n",
    "        filenames=x[2]\n",
    "        y=y.numpy()[:,-1]\n",
    "        for k in range(config.batch_size):\n",
    "            ind0=np.argmax(y[k])\n",
    "            if languages_model[ind0] == language_target:\n",
    "                print(f\"{ind_file} {filenames[k]}\") #language: {languages_model[ind0]}\n",
    "                ind_file+=1"
   ]
  },
  {
   "cell_type": "code",
   "execution_count": null,
   "metadata": {},
   "outputs": [],
   "source": []
  }
 ],
 "metadata": {
  "kernelspec": {
   "display_name": "tf2",
   "language": "python",
   "name": "tf2"
  },
  "language_info": {
   "codemirror_mode": {
    "name": "ipython",
    "version": 3
   },
   "file_extension": ".py",
   "mimetype": "text/x-python",
   "name": "python",
   "nbconvert_exporter": "python",
   "pygments_lexer": "ipython3",
   "version": "3.7.6"
  }
 },
 "nbformat": 4,
 "nbformat_minor": 4
}
