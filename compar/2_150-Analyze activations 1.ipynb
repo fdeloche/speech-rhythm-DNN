{
 "cells": [
  {
   "cell_type": "code",
   "execution_count": null,
   "metadata": {
    "papermill": {
     "duration": 3.752686,
     "end_time": "2021-08-23T20:58:39.799978",
     "exception": false,
     "start_time": "2021-08-23T20:58:36.047292",
     "status": "completed"
    },
    "tags": []
   },
   "outputs": [],
   "source": [
    "import numpy as np\n",
    "import matplotlib.pyplot as pl\n",
    "from scipy.stats.stats import pearsonr\n",
    "\n",
    "\n",
    "from create_dictionaries import create_dictionaries\n",
    "import copy\n",
    "\n",
    "\n",
    "from itertools import cycle\n",
    "from sklearn.linear_model import Lasso, ElasticNet, lasso_path, enet_path\n",
    "from sklearn.linear_model import LassoCV, ElasticNetCV, LassoLarsCV, LassoLarsIC\n",
    "\n",
    "from sklearn.model_selection import KFold\n",
    "\n",
    "import json\n",
    "\n",
    "import sys\n",
    "\n",
    "from IPython.utils.io import Tee"
   ]
  },
  {
   "cell_type": "code",
   "execution_count": null,
   "metadata": {
    "papermill": {
     "duration": 0.023105,
     "end_time": "2021-08-23T20:58:39.847791",
     "exception": false,
     "start_time": "2021-08-23T20:58:39.824686",
     "status": "completed"
    },
    "tags": [
     "parameters"
    ]
   },
   "outputs": [],
   "source": [
    "activations_name='weights0904-2d-30Hz-newinputs-dataaugmentation-30epochs'\n",
    "#activations_folder=\"../activations/Scores_Ramus/weights_2020-04-07\"\n",
    "n_cells=128\n",
    "\n",
    "\n",
    "metrics_folder='./corpus_ramus/Files/'\n",
    "\n",
    "saveTxtFile=False #save best cells in text file\n",
    "\n",
    "l1_ratio=0.2 #for ElasticNet\n",
    "#NB further parameters: conservative, type of cells\n",
    "\n",
    "saveCoeffs=False #save regression coeffs to json file\n",
    "normalizeFeatures=False"
   ]
  },
  {
   "cell_type": "code",
   "execution_count": null,
   "metadata": {
    "papermill": {
     "duration": 0.019188,
     "end_time": "2021-08-23T20:58:39.878045",
     "exception": false,
     "start_time": "2021-08-23T20:58:39.858857",
     "status": "completed"
    },
    "tags": [
     "injected-parameters"
    ]
   },
   "outputs": [],
   "source": [
    "# Parameters\n",
    "activations_name = \"weights_2_150_voiced_unvoiced_bis_ALL\"\n",
    "n_cells = 150\n"
   ]
  },
  {
   "cell_type": "code",
   "execution_count": null,
   "metadata": {
    "papermill": {
     "duration": 0.018992,
     "end_time": "2021-08-23T20:58:39.907429",
     "exception": false,
     "start_time": "2021-08-23T20:58:39.888437",
     "status": "completed"
    },
    "tags": []
   },
   "outputs": [],
   "source": [
    "activations_folder=f'../activations/Scores_Ramus/{activations_name}'"
   ]
  },
  {
   "cell_type": "code",
   "execution_count": null,
   "metadata": {
    "papermill": {
     "duration": 0.473089,
     "end_time": "2021-08-23T20:58:40.390313",
     "exception": false,
     "start_time": "2021-08-23T20:58:39.917224",
     "status": "completed"
    },
    "tags": []
   },
   "outputs": [],
   "source": [
    "dfiles, d_match, datay, d_act, d_lang, D, dmetrics = create_dictionaries(activations_folder=activations_folder,\n",
    "                                                           metrics_folder=metrics_folder)\n"
   ]
  },
  {
   "cell_type": "markdown",
   "metadata": {
    "papermill": {
     "duration": 0.012397,
     "end_time": "2021-08-23T20:58:40.428501",
     "exception": false,
     "start_time": "2021-08-23T20:58:40.416104",
     "status": "completed"
    },
    "tags": []
   },
   "source": [
    "### Metrics"
   ]
  },
  {
   "cell_type": "code",
   "execution_count": null,
   "metadata": {
    "papermill": {
     "duration": 0.023221,
     "end_time": "2021-08-23T20:58:40.461482",
     "exception": false,
     "start_time": "2021-08-23T20:58:40.438261",
     "status": "completed"
    },
    "tags": []
   },
   "outputs": [],
   "source": [
    "metrique_keys=['deltV', 'deltC', 'propV', 'varco_V', 'varco_C', 'nPVI_V', 'rPVI_C']\n",
    "list_files=list(d_match.keys())\n",
    "\n",
    "metric_arrays={}\n",
    "for metrique in metrique_keys:\n",
    "    l=[]\n",
    "    for file in list_files:\n",
    "        l.append(dmetrics[file][metrique])\n",
    "    metric_arrays[metrique]=np.array(l)"
   ]
  },
  {
   "cell_type": "markdown",
   "metadata": {
    "papermill": {
     "duration": 0.010706,
     "end_time": "2021-08-23T20:58:40.487263",
     "exception": false,
     "start_time": "2021-08-23T20:58:40.476557",
     "status": "completed"
    },
    "tags": []
   },
   "source": [
    "Figures metrics (NB: they differ slightly from Ramus' figures as not every audio file was available, especially for English)"
   ]
  },
  {
   "cell_type": "code",
   "execution_count": null,
   "metadata": {
    "papermill": {
     "duration": 0.847033,
     "end_time": "2021-08-23T20:58:41.343816",
     "exception": false,
     "start_time": "2021-08-23T20:58:40.496783",
     "status": "completed"
    },
    "tags": []
   },
   "outputs": [],
   "source": [
    "metrique_tuples=[('propV', 'deltC'), ('propV', 'deltV'), ('deltV', 'deltC'), ('nPVI_V', 'rPVI_C')]\n",
    "plt=pl\n",
    "\n",
    "for tup in metrique_tuples:\n",
    "    plt.figure(figsize=(7,5))\n",
    "    metrique_x, metrique_y = tup\n",
    "    xarr=metric_arrays[metrique_x]\n",
    "    yarr=metric_arrays[metrique_y]\n",
    "    \n",
    "    \n",
    "    if metrique_x in ['deltC', 'deltV']:\n",
    "        shift_x=0.001\n",
    "    elif metrique_x in ['propV', 'nPVI_V', 'rPVI_C']:\n",
    "        shift_x=0.1\n",
    "\n",
    "    if metrique_y in ['deltC', 'deltV']:\n",
    "        shift_y=0.001\n",
    "    elif metrique_y in ['propV', 'nPVI_V', 'rPVI_C']:\n",
    "        shift_y=0.1\n",
    "    for lang in D:\n",
    "        xarr_lang=[]\n",
    "        yarr_lang=[]\n",
    "        for j, file in enumerate(list_files):\n",
    "            if d_lang[file] == lang:\n",
    "                xarr_lang.append(xarr[j])\n",
    "                yarr_lang.append(yarr[j])\n",
    "        xarr_lang=np.array(xarr_lang)\n",
    "        yarr_lang=np.array(yarr_lang)\n",
    "        std=np.std(xarr_lang)\n",
    "        xsterr=std/np.sqrt(len(xarr_lang))\n",
    "        std=np.std(yarr_lang)\n",
    "        ysterr=std/(np.sqrt(len(yarr_lang)))\n",
    "        x,y=np.mean(xarr_lang),np.mean(yarr_lang)\n",
    "        plt.errorbar(x,y,label=lang,fmt=\".k\",xerr=xsterr,yerr=ysterr,capsize=2)\n",
    "        plt.text(x+shift_x,y+shift_y,lang)\n",
    "\n",
    "    plt.title(f\"Distribution des langues selon {metrique_x}, {metrique_y}\")\n",
    "    plt.xlabel(metrique_x)\n",
    "    plt.ylabel(metrique_y)\n",
    "    plt.show()"
   ]
  },
  {
   "cell_type": "markdown",
   "metadata": {
    "papermill": {
     "duration": 0.012278,
     "end_time": "2021-08-23T20:58:41.380793",
     "exception": false,
     "start_time": "2021-08-23T20:58:41.368515",
     "status": "completed"
    },
    "tags": []
   },
   "source": [
    "### Pearson coefficients"
   ]
  },
  {
   "cell_type": "markdown",
   "metadata": {
    "papermill": {
     "duration": 0.011329,
     "end_time": "2021-08-23T20:58:41.403325",
     "exception": false,
     "start_time": "2021-08-23T20:58:41.391996",
     "status": "completed"
    },
    "tags": []
   },
   "source": [
    "NB: Pearson coefficients are signed (contrary to original version where it was the absolute value)"
   ]
  },
  {
   "cell_type": "code",
   "execution_count": null,
   "metadata": {
    "papermill": {
     "duration": 0.361145,
     "end_time": "2021-08-23T20:58:41.775611",
     "exception": false,
     "start_time": "2021-08-23T20:58:41.414466",
     "status": "completed"
    },
    "tags": []
   },
   "outputs": [],
   "source": [
    "\n",
    "pearson={}\n",
    "\n",
    "for metrique in metrique_keys:\n",
    "    pearson[metrique]={'lstm_1':{'cell_states':[],'outputs':[]},'lstm_2':{'cell_states':[],'outputs':[]}}\n",
    "\n",
    "for lstm in ['lstm_1','lstm_2']:\n",
    "    for celltype in ['outputs','cell_states']:\n",
    "        for i in range(n_cells): #i passe sur chacune des cellules\n",
    "            y=[] \n",
    "            for file in list_files:\n",
    "                audio=d_match[file].split('.')[0]\n",
    "                y.append(datay[audio][lstm][celltype][i])\n",
    "            y=np.array(y).astype(np.float)\n",
    "            \n",
    "            for metrique in metrique_keys:\n",
    "                x=metric_arrays[metrique]\n",
    "                pearson[metrique][lstm][celltype].append(pearsonr(y,x)[0])\n"
   ]
  },
  {
   "cell_type": "markdown",
   "metadata": {
    "papermill": {
     "duration": 0.013218,
     "end_time": "2021-08-23T20:58:41.819219",
     "exception": false,
     "start_time": "2021-08-23T20:58:41.806001",
     "status": "completed"
    },
    "tags": []
   },
   "source": [
    "Meilleures cellules"
   ]
  },
  {
   "cell_type": "code",
   "execution_count": null,
   "metadata": {
    "papermill": {
     "duration": 0.316406,
     "end_time": "2021-08-23T20:58:42.147011",
     "exception": false,
     "start_time": "2021-08-23T20:58:41.830605",
     "status": "completed"
    },
    "tags": []
   },
   "outputs": [],
   "source": [
    "\n",
    "##Meilleures cellules\n",
    "'''\n",
    "d1={}\n",
    "for metrique in list(pearson.keys()):\n",
    "    d1[metrique]=[]\n",
    "    for lstm in list(pearson[metrique].keys()):\n",
    "        for celltype in list(pearson[metrique][lstm].keys()):\n",
    "            d1[metrique]=d1[metrique]+pearson[metrique][lstm][celltype]\n",
    "'''\n",
    "\n",
    "if saveTxtFile:\n",
    "    #f=open(f'./corpus_ramus/best_cells_{activations_name}.txt', 'w')\n",
    "    #orig_stdout = sys.stdout\n",
    "    #sys.stdout=f\n",
    "    tee=Tee(f'./corpus_ramus/best_cells_{activations_name}.txt')\n",
    "\n",
    "for metrique in list(pearson.keys()):\n",
    "    pearson2 = copy.deepcopy(pearson)\n",
    "    print(metrique)\n",
    "    max_ref_previous=np.inf\n",
    "    for i in range(5):\n",
    "        max_ref=-np.inf\n",
    "        for lstm in list(pearson2[metrique].keys()):\n",
    "            for celltype in list(pearson2[metrique][lstm].keys()):\n",
    "                for ind, act in enumerate(pearson2[metrique][lstm][celltype]):\n",
    "                    if max_ref<np.abs(act) and np.abs(act)<max_ref_previous:\n",
    "                        ind_max=lstm, celltype, ind\n",
    "                        max_ref=np.abs(act)\n",
    "        lstm, celltype, ind=ind_max                \n",
    "        text=lstm+\", \"+celltype+\", \"+str(ind)+'\\t\\t'\n",
    "        print(text,max_ref)\n",
    "        max_ref_previous=max_ref\n",
    "    print(\"\\n\")\n",
    "\n",
    "\n",
    "if saveTxtFile:\n",
    "    tee.close()\n",
    "    #f.close()\n",
    "    #sys.stdout=orig_stdout"
   ]
  },
  {
   "cell_type": "markdown",
   "metadata": {
    "papermill": {
     "duration": 0.035783,
     "end_time": "2021-08-23T20:58:42.238360",
     "exception": false,
     "start_time": "2021-08-23T20:58:42.202577",
     "status": "completed"
    },
    "tags": []
   },
   "source": [
    "Figures"
   ]
  },
  {
   "cell_type": "raw",
   "metadata": {
    "papermill": {
     "duration": 0.035696,
     "end_time": "2021-08-23T20:58:42.310050",
     "exception": false,
     "start_time": "2021-08-23T20:58:42.274354",
     "status": "completed"
    },
    "tags": []
   },
   "source": [
    "plt=pl\n",
    "pearsonabs=copy.deepcopy(pearson)\n",
    "for metrique in pearson:\n",
    "    for lstm in list(pearson[metrique].keys()):\n",
    "        for celltype in list(pearson[metrique][lstm].keys()):\n",
    "            pearsonabs[metrique][lstm][celltype]=np.abs(pearson[metrique][lstm][celltype])\n",
    "\n",
    "plt.figure()\n",
    "plt.hist(pearsonabs['deltV']['lstm_1']['outputs'])\n",
    "plt.title('Coef de corrélation des cellules output de la lstm1, métrique delta V')\n",
    "#plt.savefig('pearsonabs_lstm1_output_deltav.pdf')\n",
    "#plt.close()\n",
    "\n",
    "\n",
    "plt.figure()\n",
    "plt.hist(pearsonabs['deltV']['lstm_1']['cell_states'])\n",
    "plt.title('Coef de corrélation des cellules mémoire de la lstm1, métrique delta V')\n",
    "#plt.savefig('pearsonabs_lstm1_cellstates_deltav.pdf')\n",
    "#plt.close()\n",
    "\n",
    "\n",
    "plt.figure()\n",
    "plt.hist(pearsonabs['deltV']['lstm_2']['outputs'])\n",
    "plt.title('Coef de corrélation des cellules output de la lstm2, métrique delta V')\n",
    "#plt.savefig('pearsonabs_lstm2_output_deltav.pdf')\n",
    "#plt.close()\n",
    "\n",
    "\n",
    "plt.figure()\n",
    "plt.hist(pearsonabs['deltV']['lstm_2']['cell_states'])\n",
    "plt.title('Coef de corrélation des cellules mémoire de la lstm2, métrique delta V')\n",
    "#plt.savefig('pearsonabs_lstm2_cellstates_deltav.pdf')\n",
    "#plt.close()\n",
    "\n",
    "#delta C\n",
    "\n",
    "plt.figure()\n",
    "plt.hist(pearsonabs['deltC']['lstm_1']['outputs'])\n",
    "plt.title('Coef de corrélation des cellules output de la lstm1, métrique delta C')\n",
    "#plt.savefig('pearsonabs_lstm1_output_deltac.pdf')\n",
    "#plt.close()\n",
    "\n",
    "\n",
    "plt.figure()\n",
    "plt.hist(pearsonabs['deltC']['lstm_1']['cell_states'])\n",
    "plt.title('Coef de corrélation des cellules mémoire de la lstm1, métrique delta C')\n",
    "#plt.savefig('pearsonabs_lstm1_cellstates_deltac.pdf')\n",
    "#plt.close()\n",
    "\n",
    "\n",
    "plt.figure()\n",
    "plt.hist(pearsonabs['deltC']['lstm_2']['outputs'])\n",
    "plt.title('Coef de corrélation des cellules output de la lstm2, métrique delta C')\n",
    "#plt.savefig('pearsonabs_lstm2_output_deltac.pdf')\n",
    "#plt.close()\n",
    "\n",
    "plt.figure()\n",
    "plt.hist(pearsonabs['deltC']['lstm_2']['cell_states'])\n",
    "plt.title('Coef de corrélation des cellules mémoire de la lstm2, métrique delta C')\n",
    "#plt.savefig('pearsonabs_lstm2_cellstates_deltac.pdf')\n",
    "#plt.close()\n",
    "\n",
    "#prop V\n",
    "\n",
    "plt.figure()\n",
    "plt.hist(pearsonabs['propV']['lstm_1']['outputs'])\n",
    "plt.title('Coef de corrélation des cellules output de la lstm1, métrique prop V')\n",
    "#plt.savefig('pearsonabs_lstm1_output_propv.pdf')\n",
    "#plt.close()\n",
    "\n",
    "\n",
    "plt.figure()\n",
    "plt.hist(pearsonabs['propV']['lstm_1']['cell_states'])\n",
    "plt.title('Coef de corrélation des cellules mémoire de la lstm1, métrique prop V')\n",
    "#plt.savefig('pearsonabs_lstm1_cellstates_propv.pdf')\n",
    "#plt.close()\n",
    "\n",
    "\n",
    "plt.figure()\n",
    "plt.hist(pearsonabs['propV']['lstm_2']['outputs'])\n",
    "plt.title('Coef de corrélation des cellules output de la lstm2, métrique prop V')\n",
    "#plt.savefig('pearsonabs_lstm2_output_propv.pdf')\n",
    "#plt.close()\n",
    "\n",
    "\n",
    "plt.figure()\n",
    "plt.hist(pearsonabs['propV']['lstm_2']['cell_states'])\n",
    "plt.title('Coef de corrélation des cellules mémoire de la lstm2, métrique prop V')\n",
    "#plt.savefig('pearsonabs_lstm2_cellstates_propv.pdf')\n",
    "#plt.close()\n"
   ]
  },
  {
   "cell_type": "markdown",
   "metadata": {
    "papermill": {
     "duration": 0.03548,
     "end_time": "2021-08-23T20:58:42.380852",
     "exception": false,
     "start_time": "2021-08-23T20:58:42.345372",
     "status": "completed"
    },
    "tags": []
   },
   "source": [
    "### Scatter plots"
   ]
  },
  {
   "cell_type": "code",
   "execution_count": null,
   "metadata": {
    "papermill": {
     "duration": 0.047137,
     "end_time": "2021-08-23T20:58:42.463018",
     "exception": false,
     "start_time": "2021-08-23T20:58:42.415881",
     "status": "completed"
    },
    "tags": []
   },
   "outputs": [],
   "source": [
    "metrique_inds={'deltV':0, 'deltC':1, 'propV':2}\n",
    "c_lang={\"en\":'C0',\"pol\":'C1',\"du\":'C2',\"fr\":'C3',\"esp\":'C4',\"it\":'C5',\"cat\":'C6',\"ja\":'C7'}\n"
   ]
  },
  {
   "cell_type": "code",
   "execution_count": null,
   "metadata": {},
   "outputs": [],
   "source": [
    "metrique_inds.keys()"
   ]
  },
  {
   "cell_type": "raw",
   "metadata": {
    "papermill": {
     "duration": 0.035197,
     "end_time": "2021-08-23T20:58:42.554036",
     "exception": false,
     "start_time": "2021-08-23T20:58:42.518839",
     "status": "completed"
    },
    "tags": []
   },
   "source": [
    "layer_list=['lstm_1', 'lstm_2', 'lstm_2', 'lstm_2']\n",
    "celltype_list=['outputs', 'outputs', 'outputs' , 'outputs'] # 'outputs','cell_states':\n",
    "ind_list=[3, 4, 116, 115, 121]\n",
    "metrique_list=['deltC', 'propV', 'nPVI_V', 'rPVI_C']\n",
    "\n",
    "\n",
    "for layer, celltype, ind, metrique in zip(layer_list, celltype_list, ind_list, metrique_list):\n",
    "    met_arr=[]\n",
    "    y=[]\n",
    "    c=[]\n",
    "    for file in list_files:\n",
    "        #metrique_ind=metrique_inds[metrique]\n",
    "        #met_arr.append(dfiles[file][metrique_ind])\n",
    "        met_arr.append(dmetrics[file][metrique])\n",
    "        audio=d_match[file].split('.')[0]\n",
    "        y.append(datay[audio][layer][celltype][ind])\n",
    "        c.append(c_lang[d_lang[file]])\n",
    "    y=np.array(y).astype(np.float)\n",
    "\n",
    "    #HACK for legend\n",
    "    from matplotlib.lines import Line2D\n",
    "    custom_lines = [Line2D([0], [0], c=f'C{i}') for i in range(len(c_lang))]\n",
    "\n",
    "    pl.figure(figsize=(8,6))\n",
    "    pl.scatter(met_arr, y, c=c)\n",
    "    pl.xlabel(metrique)\n",
    "    pl.legend(custom_lines, c_lang)\n",
    "    pl.ylabel(f'{layer} {celltype} unit {ind}')"
   ]
  },
  {
   "cell_type": "markdown",
   "metadata": {
    "papermill": {
     "duration": 0.034979,
     "end_time": "2021-08-23T20:58:42.624032",
     "exception": false,
     "start_time": "2021-08-23T20:58:42.589053",
     "status": "completed"
    },
    "tags": []
   },
   "source": [
    "### (Regularized) linear regressions"
   ]
  },
  {
   "cell_type": "code",
   "execution_count": null,
   "metadata": {
    "papermill": {
     "duration": 0.045592,
     "end_time": "2021-08-23T20:58:42.704570",
     "exception": false,
     "start_time": "2021-08-23T20:58:42.658978",
     "status": "completed"
    },
    "tags": []
   },
   "outputs": [],
   "source": [
    "#reference layer\n",
    "layer='lstm_2'\n",
    "celltype='outputs'\n",
    "\n",
    "\n",
    "#metric_coeffs={'propV':0.05, 'deltC':20, 'deltV':20, 'nPVI_V':0.02, 'rPVI_C':0.15} #the metrics are first multiplied by these coeffs (y in [0, 1] range)\n",
    "metric_coeffs=dict([(metrique, 1./metric_arrays[metrique].std()) for metrique in metrique_keys])"
   ]
  },
  {
   "cell_type": "raw",
   "metadata": {
    "papermill": {
     "duration": 0.035433,
     "end_time": "2021-08-23T20:58:42.778005",
     "exception": false,
     "start_time": "2021-08-23T20:58:42.742572",
     "status": "completed"
    },
    "tags": []
   },
   "source": [
    "\n",
    "for metrique in metrique_keys:\n",
    "    print(f'std {metrique} : {metric_arrays[metrique].std()}')"
   ]
  },
  {
   "cell_type": "markdown",
   "metadata": {
    "papermill": {
     "duration": 0.035306,
     "end_time": "2021-08-23T20:58:42.848448",
     "exception": false,
     "start_time": "2021-08-23T20:58:42.813142",
     "status": "completed"
    },
    "tags": []
   },
   "source": [
    "Matrix of activations / metric vectors"
   ]
  },
  {
   "cell_type": "code",
   "execution_count": null,
   "metadata": {
    "papermill": {
     "duration": 0.122036,
     "end_time": "2021-08-23T20:58:43.005758",
     "exception": false,
     "start_time": "2021-08-23T20:58:42.883722",
     "status": "completed"
    },
    "tags": []
   },
   "outputs": [],
   "source": [
    "X=np.zeros((n_cells, len(d_match)))\n",
    "\n",
    "metric_arrays={}\n",
    "for metrique in metrique_keys:\n",
    "    l=[]\n",
    "    for j, file in enumerate(list_files):\n",
    "        l.append(dmetrics[file][metrique])\n",
    "        audio=d_match[file].split('.')[0]\n",
    "        X[:, j] = np.array(datay[audio][layer][celltype]).astype(np.float)\n",
    "    metric_arrays[metrique]=np.array(l)"
   ]
  },
  {
   "cell_type": "markdown",
   "metadata": {
    "papermill": {
     "duration": 0.035525,
     "end_time": "2021-08-23T20:58:43.093741",
     "exception": false,
     "start_time": "2021-08-23T20:58:43.058216",
     "status": "completed"
    },
    "tags": []
   },
   "source": [
    "AIC/BIC criterion / CV"
   ]
  },
  {
   "cell_type": "code",
   "execution_count": null,
   "metadata": {
    "papermill": {
     "duration": 5.158306,
     "end_time": "2021-08-23T20:58:48.287465",
     "exception": false,
     "start_time": "2021-08-23T20:58:43.129159",
     "status": "completed"
    },
    "tags": []
   },
   "outputs": [],
   "source": [
    "#normalize data?\n",
    "X2=np.copy(X)\n",
    "XT=X2.T\n",
    "if normalizeFeatures:\n",
    "    XT -= np.mean(XT, axis=0)\n",
    "\n",
    "    XT /= XT.std(axis=0)\n",
    "\n",
    "k_fold=7\n",
    "shuffling=False\n",
    "EPSILON= 1e-4\n",
    "\n",
    "random_state = 1 if shuffling else None\n",
    "CVsplitter=KFold(n_splits=k_fold, shuffle=shuffling, random_state=random_state)\n",
    "\n",
    "metric_alphaCV_lasso = {}\n",
    "metric_alphaCV_enet = {}\n",
    "\n",
    "plt=pl\n",
    "for metrique in metric_arrays:\n",
    "    try:\n",
    "        y=metric_coeffs[metrique]*metric_arrays[metrique]\n",
    "    except KeyError as e:\n",
    "        print(f'{metrique} not in metric_coeffs, lasso not performed')\n",
    "        continue\n",
    "    '''\n",
    "    model_bic = LassoLarsIC(criterion='bic')\n",
    "    model_bic.fit(XT, y)\n",
    "    \n",
    "    alpha_bic_ = model_bic.alpha_\n",
    "\n",
    "    model_aic = LassoLarsIC(criterion='aic')\n",
    "    model_aic.fit(XT, y)\n",
    "    alpha_aic_ = model_aic.alpha_\n",
    "\n",
    "\n",
    "    def plot_ic_criterion(model, name, color):\n",
    "        criterion_ = model.criterion_\n",
    "        plt.semilogx(model.alphas_ + EPSILON, criterion_, '--', color=color,\n",
    "                     linewidth=3, label='%s criterion' % name)\n",
    "        plt.axvline(model.alpha_ + EPSILON, color=color, linewidth=3,\n",
    "                    label='alpha: %s estimate' % name)\n",
    "        plt.xlabel(r'$\\alpha$')\n",
    "        plt.ylabel('criterion')\n",
    "\n",
    "\n",
    "    plt.figure()\n",
    "    plot_ic_criterion(model_aic, 'AIC', 'b')\n",
    "    plot_ic_criterion(model_bic, 'BIC', 'r')\n",
    "    plt.legend()\n",
    "    plt.title(f'Information-criterion for model selection {metrique}')\n",
    "    \n",
    "    '''\n",
    "\n",
    "    # #############################################################################\n",
    "    # LassoCV: coordinate descent\n",
    "\n",
    "    # Compute paths\n",
    "    \n",
    "    eps = 1e-2  # the smaller it is the longer is the path\n",
    "    \n",
    "    print(\"Computing regularization path using the coordinate descent lasso...\")\n",
    "    model_lasso = LassoCV(cv=CVsplitter, eps=eps, fit_intercept=True).fit(XT, y)\n",
    "    print(\"Computing regularization path using the elastic net...\")\n",
    "    model_enet = ElasticNetCV(cv=CVsplitter, l1_ratio=l1_ratio, eps=eps, fit_intercept=True).fit(XT, y)\n",
    "\n",
    "    metric_alphaCV_lasso[metrique] = model_lasso.alpha_\n",
    "    metric_alphaCV_enet[metrique] = model_enet.alpha_\n",
    "    \n",
    "    \n",
    "    # Display results\n",
    "    plt.figure(figsize=(10,6))\n",
    "    plt.subplot(1, 2, 1)\n",
    "    ymin, ymax = 0.02, 0.1\n",
    "    plt.semilogx(model_lasso.alphas_ + EPSILON, model_lasso.mse_path_, ':')\n",
    "    plt.plot(model_lasso.alphas_ + EPSILON, model_lasso.mse_path_.mean(axis=-1), 'k',\n",
    "             label='Average across the folds', linewidth=2)\n",
    "    plt.axvline(model_lasso.alpha_ + EPSILON, linestyle='--', color='k',\n",
    "                label='alpha: CV estimate')\n",
    "\n",
    "    plt.legend()\n",
    "\n",
    "    plt.xlabel(r'$\\alpha$')\n",
    "    plt.ylabel('Mean square error')\n",
    "    plt.title(f'Lasso {metrique}')\n",
    "    plt.axis('tight')\n",
    "    #plt.ylim(ymin, ymax)\n",
    "    \n",
    "    \n",
    "    \n",
    "    plt.subplot(1, 2, 2)\n",
    "    plt.semilogx(model_enet.alphas_ + EPSILON, model_enet.mse_path_, ':')\n",
    "    plt.plot(model_enet.alphas_ + EPSILON, model_enet.mse_path_.mean(axis=-1), 'k',\n",
    "             label='Average across the folds', linewidth=2)\n",
    "    plt.axvline(model_enet.alpha_ + EPSILON, linestyle='--', color='k',\n",
    "                label='alpha: CV estimate')\n",
    "\n",
    "    plt.legend()\n",
    "\n",
    "    plt.xlabel(r'$\\alpha$')\n",
    "    plt.ylabel('Mean square error')\n",
    "    plt.title(f'ElasticNet {metrique}')\n",
    "    plt.axis('tight')\n",
    "    #plt.ylim(ymin, ymax)\n",
    "    \n",
    "    \n",
    "    plt.suptitle('Mean square error on each fold: coordinate descent')"
   ]
  },
  {
   "cell_type": "markdown",
   "metadata": {
    "papermill": {
     "duration": 0.0452,
     "end_time": "2021-08-23T20:58:48.390837",
     "exception": false,
     "start_time": "2021-08-23T20:58:48.345637",
     "status": "completed"
    },
    "tags": []
   },
   "source": [
    "Lasso/ENet path"
   ]
  },
  {
   "cell_type": "code",
   "execution_count": null,
   "metadata": {
    "papermill": {
     "duration": 4.054896,
     "end_time": "2021-08-23T20:58:52.491191",
     "exception": false,
     "start_time": "2021-08-23T20:58:48.436295",
     "status": "completed"
    },
    "tags": []
   },
   "outputs": [],
   "source": [
    "#normalize data?\n",
    "X2=np.copy(X)\n",
    "XT=X2.T\n",
    "if normalizeFeatures:\n",
    "    XT -= np.mean(XT, axis=0)\n",
    "\n",
    "    XT /= XT.std(axis=0)\n",
    "\n",
    "metric_alphas_lasso = {}\n",
    "metric_coefs_lasso = {}\n",
    "metric_alphas_enet = {}\n",
    "metric_coefs_enet = {}\n",
    "\n",
    "for metrique in metric_arrays:\n",
    "    try:\n",
    "        y=metric_coeffs[metrique]*metric_arrays[metrique]\n",
    "    except KeyError as e:\n",
    "        print(f'{metrique} not in metric_coeffs, lasso not performed')\n",
    "        continue\n",
    "        \n",
    "    # Compute paths\n",
    "\n",
    "    eps = 1e-3  # the smaller it is the longer is the path\n",
    "    \n",
    "    print(metrique)\n",
    "    print(\"Computing regularization path using the lasso...\")\n",
    "    alphas_lasso, coefs_lasso, _ = lasso_path(XT, y, eps=eps) #fit_intercept=True (deprecated)\n",
    "\n",
    "    metric_alphas_lasso[metrique]=alphas_lasso\n",
    "    metric_coefs_lasso[metrique]=coefs_lasso\n",
    "    \n",
    "    print(\"Computing regularization path using the elastic net...\")\n",
    "    alphas_enet, coefs_enet, _ = enet_path(\n",
    "        XT, y, eps=eps, l1_ratio=l1_ratio) #fit_intercept=True (deprecated)\n",
    "    \n",
    "    \n",
    "    metric_alphas_enet[metrique]=alphas_enet\n",
    "    metric_coefs_enet[metrique]=coefs_enet\n",
    "    \n",
    "\n",
    "    # Display results\n",
    "    plt=pl\n",
    "    plt.figure(1, figsize=(8,6))\n",
    "    colors = cycle(['b', 'r', 'g', 'c', 'k'])\n",
    "    neg_log_alphas_lasso = -np.log10(alphas_lasso)\n",
    "    neg_log_alphas_enet = -np.log10(alphas_enet)\n",
    "    for coef_l, coef_e, c in zip(coefs_lasso, coefs_enet, colors):\n",
    "        l1 = plt.plot(neg_log_alphas_lasso, coef_l, c=c)\n",
    "        l2 = plt.plot(neg_log_alphas_enet, coef_e, linestyle=':', c=c, alpha=0.30)\n",
    "    \n",
    "    plt.axvline(-np.log10(metric_alphaCV_lasso[metrique]), linestyle='-', color='k')\n",
    "    plt.axvline(-np.log10(metric_alphaCV_enet[metrique]), linestyle=':', color='k')\n",
    "        \n",
    "        \n",
    "    plt.xlabel('-Log(alpha)')\n",
    "    plt.ylabel('coefficients')\n",
    "    plt.title(f'Lasso and Elastic-Net Paths - {metrique}')\n",
    "    plt.legend((l1[-1], l2[-1]), ('Lasso', 'Elastic-Net'), loc='lower left')\n",
    "    plt.axis('tight')\n",
    "    plt.show()\n"
   ]
  },
  {
   "cell_type": "markdown",
   "metadata": {
    "papermill": {
     "duration": 0.053224,
     "end_time": "2021-08-23T20:58:52.613439",
     "exception": false,
     "start_time": "2021-08-23T20:58:52.560215",
     "status": "completed"
    },
    "tags": []
   },
   "source": [
    "Lasso with custom alpha"
   ]
  },
  {
   "cell_type": "code",
   "execution_count": null,
   "metadata": {
    "papermill": {
     "duration": 0.065681,
     "end_time": "2021-08-23T20:58:52.732224",
     "exception": false,
     "start_time": "2021-08-23T20:58:52.666543",
     "status": "completed"
    },
    "tags": []
   },
   "outputs": [],
   "source": [
    "metric_alphaCV_lasso, metric_alphaCV_enet"
   ]
  },
  {
   "cell_type": "code",
   "execution_count": null,
   "metadata": {
    "papermill": {
     "duration": 0.069871,
     "end_time": "2021-08-23T20:58:52.859779",
     "exception": false,
     "start_time": "2021-08-23T20:58:52.789908",
     "status": "completed"
    },
    "tags": []
   },
   "outputs": [],
   "source": [
    "metric_alpha_lasso_custom = metric_alphaCV_lasso\n",
    "metric_alpha_enet_custom = metric_alphaCV_enet\n",
    "\n",
    "conservative=True\n",
    "#more conservative\n",
    "if conservative:\n",
    "    metric_alpha_lasso_custom['deltV']=0.03\n",
    "    metric_alpha_lasso_custom['deltC']=0.01\n",
    "    metric_alpha_lasso_custom['propV']=0.004\n",
    "    metric_alpha_lasso_custom['varco_V']=0.01\n",
    "    metric_alpha_lasso_custom['varco_C']=metric_alpha_lasso_custom['varco_C']-0.01   \n",
    "    metric_alpha_lasso_custom['nPVI_V']=0.015\n",
    "    metric_alpha_lasso_custom['rPVI_C']=0.02\n",
    "    \n",
    "    metric_alpha_enet_custom['deltV']=0.01\n",
    "    metric_alpha_enet_custom['deltC']=0.03\n",
    "    metric_alpha_enet_custom['propV']=0.01\n",
    "    metric_alpha_enet_custom['varco_V']=0.02\n",
    "    metric_alpha_enet_custom['varco_C']=metric_alpha_lasso_custom['varco_C']-0.01   \n",
    "    metric_alpha_enet_custom['nPVI_V']=0.02\n",
    "    metric_alpha_enet_custom['rPVI_C']=0.03\n",
    "    \n"
   ]
  },
  {
   "cell_type": "code",
   "execution_count": null,
   "metadata": {
    "papermill": {
     "duration": 0.098624,
     "end_time": "2021-08-23T20:58:53.019553",
     "exception": false,
     "start_time": "2021-08-23T20:58:52.920929",
     "status": "completed"
    },
    "tags": []
   },
   "outputs": [],
   "source": [
    "metric_coeffs_lasso = {}  #double f, caution: a dictionary _coefs have been defined previously\n",
    "metric_coeffs_enet = {}\n",
    "\n",
    "metric_intercept_lasso = {} \n",
    "metric_intercept_enet = {}\n",
    "\n",
    "def print_coeffs(intercept, coeffs):\n",
    "    st_l=[str(intercept)]\n",
    "    for ind in np.nonzero(coeffs)[0]:\n",
    "        st_l.append(f' + ({coeffs[ind]:0.4f})*x[{ind}]')\n",
    "    print(''.join(st_l))\n",
    "\n",
    "for metrique in metric_arrays:\n",
    "    \n",
    "    y=metric_coeffs[metrique]*metric_arrays[metrique]\n",
    "    \n",
    "    model_lasso = Lasso(alpha=metric_alpha_lasso_custom[metrique], fit_intercept=True)\n",
    "    model_lasso.fit(XT, y)\n",
    "    \n",
    "    metric_intercept_lasso[metrique] = model_lasso.intercept_/metric_coeffs[metrique]\n",
    "    metric_coeffs_lasso[metrique] = model_lasso.coef_/metric_coeffs[metrique] #XXX multiplied again by normalization factors\n",
    "    if normalizeFeatures:\n",
    "        metric_coeffs_lasso[metrique] /= X.std(axis=1)\n",
    "        \n",
    "    print(f'Lasso {metrique} : {np.count_nonzero(model_lasso.coef_)} non-zero coefficients')\n",
    "    #print_coeffs(model_lasso.intercept_, model_lasso.coef_)\n",
    "    \n",
    "    model_enet = ElasticNet(alpha=metric_alpha_enet_custom[metrique], l1_ratio=l1_ratio, fit_intercept=True)\n",
    "    model_enet.fit(XT, y)\n",
    "    \n",
    "    metric_intercept_enet[metrique] = model_enet.intercept_/metric_coeffs[metrique]\n",
    "    metric_coeffs_enet[metrique] = model_enet.coef_/metric_coeffs[metrique]\n",
    "    if normalizeFeatures:\n",
    "        metric_coeffs_enet[metrique]/=X.std(axis=1)\n",
    "    \n",
    "    print(f'ElasticNet {metrique} : {np.count_nonzero(model_enet.coef_)} non-zero coefficients')\n",
    "    #print_coeffs(model_enet.intercept_, model_enet.coef_)\n"
   ]
  },
  {
   "cell_type": "markdown",
   "metadata": {
    "papermill": {
     "duration": 0.079916,
     "end_time": "2021-08-23T20:58:53.179626",
     "exception": false,
     "start_time": "2021-08-23T20:58:53.099710",
     "status": "completed"
    },
    "tags": []
   },
   "source": [
    "Scatter plots"
   ]
  },
  {
   "cell_type": "code",
   "execution_count": null,
   "metadata": {
    "papermill": {
     "duration": 2.431135,
     "end_time": "2021-08-23T20:58:55.677406",
     "exception": false,
     "start_time": "2021-08-23T20:58:53.246271",
     "status": "completed"
    },
    "tags": []
   },
   "outputs": [],
   "source": [
    "for metrique in metric_arrays:\n",
    "    for (coeffs, intercept, name) in [(metric_coeffs_lasso[metrique], metric_intercept_lasso[metrique], 'Lasso'),\n",
    "                                    (metric_coeffs_enet[metrique], metric_intercept_enet[metrique], 'ElasticNet')]:\n",
    "        c=[]\n",
    "        met_arr=metric_arrays[metrique]\n",
    "        for file in list_files:\n",
    "            c.append(c_lang[d_lang[file]])\n",
    "        y=np.dot(X.T, coeffs)\n",
    "        y+=intercept\n",
    "\n",
    "        #HACK for legend\n",
    "        from matplotlib.lines import Line2D\n",
    "        custom_lines = [Line2D([0], [0], c=f'C{i}') for i in range(len(c_lang))]\n",
    "\n",
    "        pl.figure(figsize=(8,6))\n",
    "        pl.scatter(met_arr, y, c=c)\n",
    "        pl.xlabel(metrique)\n",
    "        pl.legend(custom_lines, c_lang)\n",
    "        pl.title(f'Regression with activations ({name}) for {metrique}')"
   ]
  },
  {
   "cell_type": "markdown",
   "metadata": {
    "papermill": {
     "duration": 0.065264,
     "end_time": "2021-08-23T20:58:55.821209",
     "exception": false,
     "start_time": "2021-08-23T20:58:55.755945",
     "status": "completed"
    },
    "tags": []
   },
   "source": [
    "Save coeffs to JSON file"
   ]
  },
  {
   "cell_type": "code",
   "execution_count": null,
   "metadata": {
    "papermill": {
     "duration": 0.142369,
     "end_time": "2021-08-23T20:58:56.027572",
     "exception": false,
     "start_time": "2021-08-23T20:58:55.885203",
     "status": "completed"
    },
    "tags": []
   },
   "outputs": [],
   "source": [
    "\n",
    "if saveCoeffs:\n",
    "    coeffs_dic={}\n",
    "    for metrique in metric_arrays:\n",
    "        dic={}\n",
    "        dic['mult_factor']=metric_coeffs[metrique]\n",
    "        \n",
    "        dic2={}\n",
    "        dic2['alpha']=metric_alpha_lasso_custom[metrique]\n",
    "        dic2['coeffs']=list(metric_coeffs_lasso[metrique])\n",
    "        dic2['intercept']=metric_intercept_lasso[metrique]\n",
    "        \n",
    "        dic['lasso']=dic2\n",
    "        \n",
    "        \n",
    "        dic2={}\n",
    "        dic2['alpha']=metric_alpha_enet_custom[metrique]\n",
    "        dic2['coeffs']=list(metric_coeffs_enet[metrique])\n",
    "        dic2['intercept']=metric_intercept_enet[metrique]\n",
    "        \n",
    "        dic['enet']=dic2\n",
    "        \n",
    "        coeffs_dic[metrique]=dic\n",
    "    #activations_name=activations_folder.split('/')[-1]\n",
    "    json_filename=activations_name\n",
    "    if conservative:\n",
    "        json_filename+='_conservative'\n",
    "    with open(f'./corpus_ramus/coeffs/{json_filename}.json', 'w') as f:\n",
    "        json.dump(coeffs_dic, f, sort_keys=True, indent=4)"
   ]
  },
  {
   "cell_type": "code",
   "execution_count": null,
   "metadata": {
    "papermill": {
     "duration": 0.064361,
     "end_time": "2021-08-23T20:58:56.177648",
     "exception": false,
     "start_time": "2021-08-23T20:58:56.113287",
     "status": "completed"
    },
    "tags": []
   },
   "outputs": [],
   "source": []
  },
  {
   "cell_type": "code",
   "execution_count": null,
   "metadata": {
    "papermill": {
     "duration": 0.063143,
     "end_time": "2021-08-23T20:58:56.308404",
     "exception": false,
     "start_time": "2021-08-23T20:58:56.245261",
     "status": "completed"
    },
    "tags": []
   },
   "outputs": [],
   "source": []
  }
 ],
 "metadata": {
  "celltoolbar": "Tags",
  "kernelspec": {
   "display_name": "Python 3 (ipykernel)",
   "language": "python",
   "name": "python3"
  },
  "language_info": {
   "codemirror_mode": {
    "name": "ipython",
    "version": 3
   },
   "file_extension": ".py",
   "mimetype": "text/x-python",
   "name": "python",
   "nbconvert_exporter": "python",
   "pygments_lexer": "ipython3",
   "version": "3.9.12"
  },
  "papermill": {
   "default_parameters": {},
   "duration": 22.121773,
   "end_time": "2021-08-23T20:58:57.615965",
   "environment_variables": {},
   "exception": null,
   "input_path": "Analyze activations 1 - Unit correlations.ipynb",
   "output_path": "2_150_bis - Analyze activations 1.ipynb",
   "parameters": {
    "activations_name": "weights_2_150_voiced_unvoiced_bis_ALL",
    "n_cells": 150
   },
   "start_time": "2021-08-23T20:58:35.494192",
   "version": "2.2.0"
  }
 },
 "nbformat": 4,
 "nbformat_minor": 4
}
