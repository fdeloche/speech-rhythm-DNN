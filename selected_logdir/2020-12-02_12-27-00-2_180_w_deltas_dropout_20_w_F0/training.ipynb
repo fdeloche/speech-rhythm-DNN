{
 "cells": [
  {
   "cell_type": "code",
   "execution_count": null,
   "metadata": {
    "papermill": {
     "duration": 1.222811,
     "end_time": "2020-12-04T17:00:15.523327",
     "exception": false,
     "start_time": "2020-12-04T17:00:14.300516",
     "status": "completed"
    },
    "tags": []
   },
   "outputs": [],
   "source": [
    "import numpy as np\n",
    "\n",
    "import tensorflow as tf\n",
    "import tensorflow.keras.optimizers as optimizers\n",
    "\n",
    "from model import *\n",
    "from input import NetworkInput\n",
    "from config import *\n",
    "\n",
    "\n",
    "from data import createFeaturesDescription\n",
    "\n",
    "from tensorflow.keras.models import Model\n",
    "from tensorflow.keras.callbacks import TensorBoard\n",
    "\n",
    "\n",
    "from datetime import datetime\n",
    "\n",
    "import os\n",
    "import sys"
   ]
  },
  {
   "cell_type": "markdown",
   "metadata": {
    "papermill": {
     "duration": 0.009452,
     "end_time": "2020-12-04T17:00:15.548800",
     "exception": false,
     "start_time": "2020-12-04T17:00:15.539348",
     "status": "completed"
    },
    "tags": []
   },
   "source": [
    "### Configuration"
   ]
  },
  {
   "cell_type": "code",
   "execution_count": null,
   "metadata": {
    "papermill": {
     "duration": 0.017167,
     "end_time": "2020-12-04T17:00:15.572979",
     "exception": false,
     "start_time": "2020-12-04T17:00:15.555812",
     "status": "completed"
    },
    "tags": [
     "parameters"
    ]
   },
   "outputs": [],
   "source": [
    "batch_size=512\n",
    "num_steps=32\n",
    "\n",
    "keep_prob=1\n",
    "keep_prob_recurrent=1\n",
    "keep_prob_dense_layer=1\n",
    "\n",
    "data_augmentation=True\n",
    "name_train='train'\n",
    "\n",
    "hidden_size=128\n",
    "num_layers=2\n",
    "\n",
    "stride = 2\n",
    "\n",
    "run_with_papermill=False #if true, verbose mode will be set to 2 (1 line/epoch)\n",
    "\n",
    "kernel_regularizer_l2=0\n",
    "recurrent_regularizer_l2=0\n",
    "\n",
    "#TODO use_HPRMS\n",
    "use_F0=False\n",
    "F0_binary_values=False\n",
    "\n",
    "use_deltas=False\n",
    "\n",
    "nb_epochs=30\n",
    "\n",
    "train_model=True\n",
    "save_weights=True\n",
    "\n",
    "\n",
    "load_weights=False\n",
    "weights_filename=\"./logdir/2020-10-29_17-50-58-size_3_128/weights/weights_2020-10-29_17-50-58.h5\" "
   ]
  },
  {
   "cell_type": "code",
   "execution_count": null,
   "metadata": {
    "papermill": {
     "duration": 0.13082,
     "end_time": "2020-12-04T17:00:15.710151",
     "exception": false,
     "start_time": "2020-12-04T17:00:15.579331",
     "status": "completed"
    },
    "tags": [
     "injected-parameters"
    ]
   },
   "outputs": [],
   "source": [
    "# Parameters\n",
    "hidden_size = 180\n",
    "use_F0 = True\n",
    "F0_binary_values = True\n",
    "use_deltas = True\n",
    "keep_prob = 0.8\n",
    "keep_prob_dense_layer = 0.8\n",
    "run_with_papermill = True\n",
    "name_train = \"2_180_w_deltas_dropout_20_w_F0\"\n"
   ]
  },
  {
   "cell_type": "code",
   "execution_count": null,
   "metadata": {
    "papermill": {
     "duration": 0.163661,
     "end_time": "2020-12-04T17:00:15.891065",
     "exception": false,
     "start_time": "2020-12-04T17:00:15.727404",
     "status": "completed"
    },
    "tags": []
   },
   "outputs": [],
   "source": [
    "\n",
    "config=Config(batch_size, num_steps, keep_prob=keep_prob, keep_prob_recurrent=keep_prob_recurrent, \n",
    "              hidden_size=hidden_size, num_layers=num_layers, \n",
    "              kernel_regularizer_l2=kernel_regularizer_l2, recurrent_regularizer_l2=recurrent_regularizer_l2)\n",
    "config=completedConfig(config) #take default params for unspecified params\n"
   ]
  },
  {
   "cell_type": "code",
   "execution_count": null,
   "metadata": {
    "papermill": {
     "duration": 0.181433,
     "end_time": "2020-12-04T17:00:16.088085",
     "exception": false,
     "start_time": "2020-12-04T17:00:15.906652",
     "status": "completed"
    },
    "tags": []
   },
   "outputs": [],
   "source": [
    "config"
   ]
  },
  {
   "cell_type": "code",
   "execution_count": null,
   "metadata": {
    "papermill": {
     "duration": 0.113549,
     "end_time": "2020-12-04T17:00:16.218347",
     "exception": false,
     "start_time": "2020-12-04T17:00:16.104798",
     "status": "completed"
    },
    "tags": []
   },
   "outputs": [],
   "source": [
    "\n",
    "features_description=createFeaturesDescription(F0=use_F0) #Features RMS, RMS HP\n"
   ]
  },
  {
   "cell_type": "markdown",
   "metadata": {
    "papermill": {
     "duration": 0.021513,
     "end_time": "2020-12-04T17:00:16.256428",
     "exception": false,
     "start_time": "2020-12-04T17:00:16.234915",
     "status": "completed"
    },
    "tags": []
   },
   "source": [
    "### Input"
   ]
  },
  {
   "cell_type": "code",
   "execution_count": null,
   "metadata": {
    "papermill": {
     "duration": 0.261928,
     "end_time": "2020-12-04T17:00:16.547599",
     "exception": false,
     "start_time": "2020-12-04T17:00:16.285671",
     "status": "completed"
    },
    "tags": []
   },
   "outputs": [],
   "source": [
    "languages = [\"Danish\", \"Dutch\", \"English\", \"Finnish\",\n",
    "    \"French\", \"German\", \"Hungarian\", \"Italian\",\n",
    "    \"Japanese\", \"Korean\", \"Mandarin\", \"Polish\",\n",
    "    \"Portuguese\", \"Russian\", \"Spanish\",\n",
    "    \"Swedish\", \"Turkish\", \"Estonian\", \"Arabic\", \"Czech\", \"Romanian\",\n",
    "    \"Basque\", \"Catalan\"]\n",
    "\n",
    "#Remove languages with not enough data\n",
    "languages.remove(\"Czech\")\n",
    "languages.remove(\"Romanian\")\n",
    "\n",
    "# FIRST VERSION\n",
    "#languages = ['Danish', 'Russian', 'Mandarin', 'Finnish', 'Dutch', 'English', 'Hungarian', 'Swedish', \n",
    "#             'Italian', 'French', 'Japanese', 'German', 'Portuguese', 'Polish', 'Spanish', 'Korean']\n",
    "\n",
    "sets ={}\n",
    "\n",
    "set_folds=[0]\n",
    "\n",
    "sets_folds = {\"train\" : [0, 1, 2],\n",
    "        \"test\":[3,4],\n",
    "        \"test1\" : [3],\n",
    "        \"test2\" : [4]}\n",
    "\n",
    "set_name='train'\n",
    "sets[set_name] = NetworkInput(config, folder='./Scores', \n",
    "                     subfolder=[\"fold_{}/\".format(k_fold) for k_fold in sets_folds[set_name]],\n",
    "            stride=stride, verbose=True,                                    \n",
    "             languages=languages, name=set_name, features_description=features_description,\n",
    "                              F0_binary_values=F0_binary_values,\n",
    "                             data_augmentation=data_augmentation, use_deltas=use_deltas)\n",
    "\n",
    "set_name='test'\n",
    "sets[set_name] = NetworkInput(config, folder='./Scores', for_evaluation=True,\n",
    "        subfolder=[\"fold_{}/\".format(k_fold) for k_fold in sets_folds[set_name]],\n",
    "            stride=stride, verbose=True,                                    \n",
    "             languages=None, languages_model=languages, name=set_name,\n",
    "                features_description=features_description, \n",
    "             F0_binary_values=F0_binary_values,\n",
    "                use_deltas=use_deltas) #autodetect languages"
   ]
  },
  {
   "cell_type": "code",
   "execution_count": null,
   "metadata": {
    "papermill": {
     "duration": 0.048407,
     "end_time": "2020-12-04T17:00:16.614035",
     "exception": false,
     "start_time": "2020-12-04T17:00:16.565628",
     "status": "completed"
    },
    "tags": []
   },
   "outputs": [],
   "source": [
    "networkInput=sets[\"train\"]\n",
    "networkInputTest=sets[\"test\"]"
   ]
  },
  {
   "cell_type": "markdown",
   "metadata": {
    "papermill": {
     "duration": 0.021781,
     "end_time": "2020-12-04T17:00:16.653932",
     "exception": false,
     "start_time": "2020-12-04T17:00:16.632151",
     "status": "completed"
    },
    "tags": []
   },
   "source": [
    "### Model"
   ]
  },
  {
   "cell_type": "code",
   "execution_count": null,
   "metadata": {
    "papermill": {
     "duration": 0.382984,
     "end_time": "2020-12-04T17:00:17.066162",
     "exception": false,
     "start_time": "2020-12-04T17:00:16.683178",
     "status": "completed"
    },
    "tags": []
   },
   "outputs": [],
   "source": [
    "model=build_model(config, networkInput)\n",
    "model.summary()"
   ]
  },
  {
   "cell_type": "code",
   "execution_count": null,
   "metadata": {
    "papermill": {
     "duration": 0.015259,
     "end_time": "2020-12-04T17:00:17.097282",
     "exception": false,
     "start_time": "2020-12-04T17:00:17.082023",
     "status": "completed"
    },
    "tags": []
   },
   "outputs": [],
   "source": [
    "if load_weights:\n",
    "    model.load_weights(weights_filename)"
   ]
  },
  {
   "cell_type": "code",
   "execution_count": null,
   "metadata": {
    "papermill": {
     "duration": 0.191828,
     "end_time": "2020-12-04T17:00:17.295679",
     "exception": false,
     "start_time": "2020-12-04T17:00:17.103851",
     "status": "completed"
    },
    "tags": []
   },
   "outputs": [],
   "source": [
    "if train_model:\n",
    "    #SUMMARIES\n",
    "    today=datetime.now().strftime(\"%Y-%m-%d_%H-%M-%S\")\n",
    "    logdir=f\"./logdir/{today}-{name_train}\"\n",
    "    \n",
    "    #summary_writer=tf.summary.create_file_writer(logdir)\n",
    "    #summary_writer.set_as_default()\n",
    "    \n",
    "    #write_summaries_step=networkInput.nbr_batchs//20  #now every epoch\n",
    "    #print(f'write summaries every {write_summaries_step} (non-splitted) batches')\n",
    "    \n",
    "    #OPTIM (NAG)\n",
    "    true_nb_batches=networkInput.nbr_batchs*networkInput.num_slices_by_example\n",
    "    true_nb_batches_test=networkInputTest.nbr_batchs*networkInputTest.num_slices_by_example\n",
    "    lr_0=0.2  #start: 0.2\n",
    "    lr_decay=0.93\n",
    "    optim=optimizers.SGD(momentum=0.9, nesterov=True) #l_rate=0.001\n",
    "\n",
    "    def lr_schedule(epoch):\n",
    "        lr = lr_0*lr_decay**(epoch-1)\n",
    "        tf.summary.scalar('learning rate', data=lr, step=epoch)\n",
    "        return lr\n",
    "\n",
    "    lr_callback = tf.keras.callbacks.LearningRateScheduler(lr_schedule)\n",
    "    \n",
    "    #CALLBACKS\n",
    "    \n",
    "    #simplePBar=Simple_progressBar_callback(networkInput, min_step=0.05)\n",
    "\n",
    "    tensorboardCallback=TensorBoard(log_dir=logdir, histogram_freq=1, write_graph=True,\n",
    "              update_freq='epoch', profile_batch=2)  \n",
    "    #before:  update_freq=write_summaries_step*networkInput.num_slices_by_example,\n",
    "    forgetStates=Forget_states_callback(networkInput, model, verbose=False)\n",
    "    callbacksList=[forgetStates,lr_callback, tensorboardCallback]\n",
    "    \n",
    "#METRICS\n",
    "acc_slices=[AccuracyStateless(networkInput, ind_batch_compute=k) for k in range(networkInput.num_slices_by_example)]\n",
    "#top3_slices=[TopKAccuracyStateless(networkInput, k=3, ind_batch_compute=j) for j in range(networkInput.num_slices_by_example)]\n",
    "\n",
    "metricsList=[KL_divStateless(networkInput), crossEntropyStateless(networkInput)]\n",
    "metricsList+=acc_slices\n",
    "metricsList+=[TopKAccuracyStateless(networkInput, k=3)] #top3  end of seq\n",
    "#metricsList+=top3_slices\n",
    "\n",
    "KLLoss=tf.keras.losses.KLDivergence()"
   ]
  },
  {
   "cell_type": "code",
   "execution_count": null,
   "metadata": {
    "papermill": {
     "duration": 0.625577,
     "end_time": "2020-12-04T17:00:17.940808",
     "exception": false,
     "start_time": "2020-12-04T17:00:17.315231",
     "status": "completed"
    },
    "tags": []
   },
   "outputs": [],
   "source": [
    "if train_model:\n",
    "    model.compile(optimizer=optim, loss=KLLoss, metrics=metricsList)\n",
    "else:\n",
    "    model.compile(loss=KLLoss, metrics=metricsList)"
   ]
  },
  {
   "cell_type": "code",
   "execution_count": null,
   "metadata": {
    "papermill": {
     "duration": 164.638839,
     "end_time": "2020-12-04T17:03:02.586018",
     "exception": false,
     "start_time": "2020-12-04T17:00:17.947179",
     "status": "completed"
    },
    "tags": []
   },
   "outputs": [],
   "source": [
    "verbose_mode= 2 if run_with_papermill else 1\n",
    "    \n",
    "if train_model:\n",
    "    for epoch in range(nb_epochs):\n",
    "        model.fit(networkInput.sliced_batch, steps_per_epoch=true_nb_batches, initial_epoch=epoch, epochs=epoch+1,\n",
    "                  shuffle=False, verbose=verbose_mode, callbacks=callbacksList, validation_data=networkInputTest.sliced_batch, \n",
    "                 validation_steps=true_nb_batches_test)\n",
    "else: #evaluate\n",
    "    true_nb_batches=networkInputTest.nbr_batchs*networkInputTest.num_slices_by_example\n",
    "    forgetStates=Forget_states_callback(networkInputTest, model, verbose=False)\n",
    "    callbacksList=[forgetStates]\n",
    "    model.evaluate(networkInputTest.sliced_batch, verbose=verbose_mode, steps=true_nb_batches,callbacks=callbacksList)"
   ]
  },
  {
   "cell_type": "code",
   "execution_count": null,
   "metadata": {
    "papermill": {
     "duration": null,
     "end_time": null,
     "exception": null,
     "start_time": null,
     "status": "completed"
    },
    "tags": []
   },
   "outputs": [],
   "source": [
    "#SAVE WEIGHTS\n",
    "weights_dir=f\"{logdir}/weights\"\n",
    "if save_weights:\n",
    "    os.makedirs(weights_dir)\n",
    "    model.save_weights(f\"{weights_dir}/weights_{today}.h5\")\n",
    "\n",
    "#TODO\n",
    "#SAVE MODEL"
   ]
  },
  {
   "cell_type": "code",
   "execution_count": null,
   "metadata": {
    "papermill": {
     "duration": null,
     "end_time": null,
     "exception": null,
     "start_time": null,
     "status": "completed"
    },
    "tags": []
   },
   "outputs": [],
   "source": [
    "if train_model: #save info on input/model\n",
    "    orig_stdout = sys.stdout\n",
    "    with open(f\"{logdir}/info.txt\", 'w') as f:\n",
    "        sys.stdout = f\n",
    "        print(name_train)\n",
    "        print(networkInput)\n",
    "        \n",
    "        model.summary()\n",
    "        print(config)\n",
    "        \n",
    "        print(networkInputTest)\n",
    "    \n",
    "    sys.stdout = orig_stdout"
   ]
  },
  {
   "cell_type": "code",
   "execution_count": null,
   "metadata": {
    "papermill": {
     "duration": null,
     "end_time": null,
     "exception": null,
     "start_time": null,
     "status": "completed"
    },
    "tags": []
   },
   "outputs": [],
   "source": []
  }
 ],
 "metadata": {
  "celltoolbar": "Tags",
  "kernelspec": {
   "display_name": "tf2",
   "language": "python",
   "name": "tf2"
  },
  "language_info": {
   "codemirror_mode": {
    "name": "ipython",
    "version": 3
   },
   "file_extension": ".py",
   "mimetype": "text/x-python",
   "name": "python",
   "nbconvert_exporter": "python",
   "pygments_lexer": "ipython3",
   "version": "3.7.6"
  },
  "papermill": {
   "default_parameters": {},
   "duration": 170.499274,
   "end_time": "2020-12-04T17:03:04.188348",
   "environment_variables": {},
   "exception": null,
   "input_path": "Model training.ipynb",
   "output_path": "training.ipynb",
   "parameters": {
    "F0_binary_values": true,
    "hidden_size": 180,
    "keep_prob": 0.8,
    "keep_prob_dense_layer": 0.8,
    "name_train": "2_180_w_deltas_dropout_20_w_F0",
    "run_with_papermill": true,
    "use_F0": true,
    "use_deltas": true
   },
   "start_time": "2020-12-04T17:00:13.689074",
   "version": "2.2.0"
  }
 },
 "nbformat": 4,
 "nbformat_minor": 2
}
