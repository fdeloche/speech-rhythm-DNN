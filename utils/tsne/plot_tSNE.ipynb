{
 "cells": [
  {
   "cell_type": "code",
   "execution_count": null,
   "metadata": {},
   "outputs": [],
   "source": [
    "import numpy as np\n",
    "import matplotlib.pyplot as pl\n",
    "import re\n",
    "import csv\n",
    "\n",
    "\n",
    "import matplotlib.colors as mc\n",
    "import colorsys"
   ]
  },
  {
   "cell_type": "code",
   "execution_count": null,
   "metadata": {},
   "outputs": [],
   "source": [
    "#tsne_folder='./'\n",
    "perplexity=150\n",
    "#tsne_folder='../../embeddings/Scores/weights_2_150_voiced_unvoiced_bis_2/dropout_20_Hellinger'\n",
    "tsne_folder='../../embeddings/Scores/weights_2_180_F0/dropout_0_Hellinger'  #SI\n",
    "#'../../embeddings/Scores/weights_2_150_voiced_unvoiced_ter/dropout_10_Hellinger/'\n"
   ]
  },
  {
   "cell_type": "markdown",
   "metadata": {},
   "source": [
    "Import labels"
   ]
  },
  {
   "cell_type": "code",
   "execution_count": null,
   "metadata": {},
   "outputs": [],
   "source": [
    "#predicted\n",
    "ind_lang=0\n",
    "#map lang -> ind\n",
    "dic_lang={}\n",
    "#map lang -> array line\n",
    "dic_lang_predicted={}\n",
    "lang_predicted=[]\n",
    "ind_lang_predicted=[]\n",
    "with open(f'{tsne_folder}/labels_predicted.tsv', 'r') as f:\n",
    "    reader=csv.reader(f)\n",
    "    for i, line in enumerate(reader):\n",
    "        lang=line[0]\n",
    "        if not lang in dic_lang:\n",
    "            dic_lang[lang]=ind_lang\n",
    "            dic_lang_predicted[lang]=[]\n",
    "            ind_lang+=1\n",
    "        ind_lang_predicted.append(dic_lang[lang])\n",
    "        lang_predicted.append(lang)\n",
    "        dic_lang_predicted[lang].append(i)\n",
    "        \n",
    "        \n",
    "            \n",
    "        "
   ]
  },
  {
   "cell_type": "code",
   "execution_count": null,
   "metadata": {},
   "outputs": [],
   "source": [
    "#true\n",
    "ind_lang=0\n",
    "lang_true=[]\n",
    "ind_lang_true=[]\n",
    "\n",
    "#map lang -> array line\n",
    "dic_lang_true={}\n",
    "for lang in dic_lang_predicted:\n",
    "    dic_lang_true[lang]=[]\n",
    "with open(f'{tsne_folder}/labels_true.tsv', 'r') as f:\n",
    "    reader=csv.reader(f)\n",
    "    for line in reader:\n",
    "        lang=line[0]\n",
    "        if not lang in dic_lang:\n",
    "            dic_lang[lang]=ind_lang\n",
    "            \n",
    "            dic_lang_true[lang]=[]\n",
    "            ind_lang+=1\n",
    "        ind_lang_true.append(dic_lang[lang])\n",
    "        lang_true.append(lang)\n",
    "        dic_lang_true[lang].append(i)\n",
    "        "
   ]
  },
  {
   "cell_type": "markdown",
   "metadata": {},
   "source": [
    "Import coords"
   ]
  },
  {
   "cell_type": "raw",
   "metadata": {},
   "source": [
    "with open(f'{tsne_folder}/tsne-08-23c.txt', 'r') as f:\n",
    "    st=f.read()\n",
    "    m=re.match('.*,\"projections\":\\[(?P<coords>.*)\\],\"selectedPoints\":.*', st)\n",
    "    assert m\n",
    "    coords_st=m.group('coords')"
   ]
  },
  {
   "cell_type": "raw",
   "metadata": {},
   "source": [
    "coords_ls=coords_st.split('{')\n",
    "coords=[]\n",
    "for i, st_i in enumerate(coords_ls):\n",
    "    if i==0:\n",
    "        continue\n",
    "    m2=re.match('.*\"tsne-0\":(?P<coord0>.*?),.*\"tsne-1\":(?P<coord1>.*?),.*\"tsne-2\":(?P<coord2>.*?)(,|})', \n",
    "               st_i)\n",
    "    assert m2, f'string {i} ({st_i}) did not match the re pattern'\n",
    "    coords.append((float(m2.group('coord0')), float(m2.group('coord1')), float(m2.group('coord2'))))"
   ]
  },
  {
   "cell_type": "raw",
   "metadata": {},
   "source": [
    "coords_arr=np.array(coords)"
   ]
  },
  {
   "cell_type": "markdown",
   "metadata": {},
   "source": [
    "Custom t-SNE instead"
   ]
  },
  {
   "cell_type": "code",
   "execution_count": null,
   "metadata": {},
   "outputs": [],
   "source": [
    "from sklearn.manifold import TSNE\n",
    "\n",
    "use_custom=True"
   ]
  },
  {
   "cell_type": "code",
   "execution_count": null,
   "metadata": {},
   "outputs": [],
   "source": [
    "coords0=[]\n",
    "with open(f'{tsne_folder}/data.csv', 'r') as f:\n",
    "    csvreader=csv.reader(f, delimiter='\\t')\n",
    "    next(csvreader)\n",
    "    for line in csvreader:\n",
    "        arr=[float(cell) for cell in line[2::]]\n",
    "        coords0.append(arr)\n",
    "        \n",
    "coords0_arr=np.array(coords0)\n",
    "    "
   ]
  },
  {
   "cell_type": "code",
   "execution_count": null,
   "metadata": {},
   "outputs": [],
   "source": [
    "MyTSNE=TSNE(n_components=2, perplexity=perplexity, learning_rate=100.0, init='random', random_state=2, method='barnes_hut')  #, angle=0.2) \n",
    "                     \n",
    "#other params:, early_exaggeration=12.0, learning_rate=200.0, n_iter=1000\n",
    "# n_iter_without_progress=300, min_grad_norm=1e-07, metric='euclidean', init='random', verbose=0, \n",
    "# method='barnes_hut' or 'exact', angle=0.5, n_jobs=None, square_distances='legacy'\n",
    "\n",
    "#' Angle less than 0.2 has quickly increasing computation time and angle greater 0.8 has quickly increasing error.\n",
    "if use_custom:\n",
    "    coords_arr=MyTSNE.fit_transform(coords0_arr)"
   ]
  },
  {
   "cell_type": "markdown",
   "metadata": {},
   "source": [
    "Compute centroids, etc."
   ]
  },
  {
   "cell_type": "code",
   "execution_count": null,
   "metadata": {},
   "outputs": [],
   "source": [
    "centroids=[]\n",
    "for lang, inds in dic_lang_predicted.items():\n",
    "    ind_lang=dic_lang[lang]\n",
    "    inds=np.array(inds)\n",
    "    coords_inds=coords_arr[inds]\n",
    "    centroid=np.mean(coords_inds, axis=0)\n",
    "    centroids.append(centroid)"
   ]
  },
  {
   "cell_type": "markdown",
   "metadata": {},
   "source": [
    "Plots"
   ]
  },
  {
   "cell_type": "code",
   "execution_count": null,
   "metadata": {},
   "outputs": [],
   "source": [
    "def lighten_color(color, amount=0.5):\n",
    "    \"\"\"\n",
    "    Lightens the given color by multiplying (1-luminosity) by the given amount.\n",
    "    Input can be matplotlib color string, hex string, or RGB tuple.\n",
    "\n",
    "    Examples:\n",
    "    >> lighten_color('g', 0.3)\n",
    "    >> lighten_color('#F034A3', 0.6)\n",
    "    >> lighten_color((.3,.55,.1), 0.5)\n",
    "    \"\"\"\n",
    "    try:\n",
    "        c = mc.cnames[color]\n",
    "    except:\n",
    "        c = color\n",
    "    c = colorsys.rgb_to_hls(*mc.to_rgb(c))\n",
    "    return colorsys.hls_to_rgb(c[0], 1 - amount * (1 - c[1]), c[2])"
   ]
  },
  {
   "cell_type": "raw",
   "metadata": {},
   "source": [
    "for coord, ind_lang in zip(coords_arr, ind_lang_predicted):\n",
    "    pl.plot(coord[0], coord[1], 'o', alpha=0.40, color=f'C{ind_lang}', markersize=4)\n",
    "    centroid=centroids[ind_lang]\n",
    "    pl.plot(coord[0], coord[1], 'o', alpha=0.40, color=f'C{ind_lang}', markersize=8)"
   ]
  },
  {
   "cell_type": "code",
   "execution_count": null,
   "metadata": {},
   "outputs": [],
   "source": [
    "pl.figure().add_axes((0,0,1,1))\n",
    "permut=np.random.permutation(len(dic_lang_predicted.keys()))\n",
    "for lang, inds in dic_lang_predicted.items():\n",
    "    ind_lang=dic_lang[lang]\n",
    "    inds=np.array(inds)\n",
    "    coords_inds=coords_arr[inds]\n",
    "    pl.plot(coords_inds[:, 0], coords_inds[:, 1], 'o', color=lighten_color(f'C{permut[ind_lang]}'), markersize=4)\n",
    "    #pl.plot(centroids[ind_lang][0], centroids[ind_lang][1], 'o', alpha=0.40, markersize=8, color='black')\n",
    "    #pl.text(centroids[ind_lang][0], centroids[ind_lang][1], lang, horizontalalignment='center')\n",
    "    centroid=centroids[ind_lang]\n",
    "    d2=(coords_inds[:,0]-centroid[0])**2+(coords_inds[:,1]-centroid[1])**2\n",
    "    ind_sort=np.argsort(d2)\n",
    "    \n",
    "    max_ind_th=round(len(ind_sort)*2/3)\n",
    "    ind_th=ind_sort[0:max_ind_th]\n",
    "    pl.plot(coords_inds[ind_th, 0], coords_inds[ind_th, 1], 'o', alpha=0.8, color=f'C{permut[ind_lang]}', markersize=4)\n",
    "    centroid2=np.mean(coords_inds[ind_th], axis=0)\n",
    "    \n",
    "    pl.text(centroid2[0], centroid2[1], lang, horizontalalignment='center', \n",
    "            verticalalignment='center', bbox=dict(facecolor='white', alpha=0.5))\n",
    "\n",
    "    \n",
    "    pl.savefig('scatterplot.svg')"
   ]
  },
  {
   "cell_type": "code",
   "execution_count": null,
   "metadata": {},
   "outputs": [],
   "source": [
    "np.shape(coords_arr)"
   ]
  },
  {
   "cell_type": "code",
   "execution_count": null,
   "metadata": {},
   "outputs": [],
   "source": []
  }
 ],
 "metadata": {
  "kernelspec": {
   "display_name": "Python 3",
   "language": "python",
   "name": "python3"
  },
  "language_info": {
   "codemirror_mode": {
    "name": "ipython",
    "version": 3
   },
   "file_extension": ".py",
   "mimetype": "text/x-python",
   "name": "python",
   "nbconvert_exporter": "python",
   "pygments_lexer": "ipython3",
   "version": "3.7.4"
  }
 },
 "nbformat": 4,
 "nbformat_minor": 4
}
