{
 "cells": [
  {
   "cell_type": "code",
   "execution_count": null,
   "id": "b399826c",
   "metadata": {},
   "outputs": [],
   "source": [
    "import numpy as np\n",
    "import matplotlib as mpl\n",
    "\n",
    "import matplotlib.pyplot as pl\n",
    "import cmcrameri.cm as cmc\n",
    "\n",
    "import itertools\n",
    "\n",
    "from ipywidgets import interact, interactive, fixed, interact_manual\n",
    "import ipywidgets as widgets\n",
    "\n",
    "from copy import copy"
   ]
  },
  {
   "cell_type": "code",
   "execution_count": null,
   "id": "37875c26",
   "metadata": {},
   "outputs": [],
   "source": [
    "mat=np.array([[1293.,  211.,   81.,  132.,  117.,  289.,   78.,   33.],\n",
    "       [ 525., 1372.,  100.,  239.,   48.,  165.,   22.,  104.],\n",
    "       [ 175.,  198., 1126.,  451.,  278.,  281.,   39.,  168.],\n",
    "       [  73.,   38.,   97.,  988.,   18.,   82.,    0.,   79.],\n",
    "       [ 127.,  137.,  228.,  187.,  986.,  441.,   37.,  206.],\n",
    "       [  79.,   44.,   91.,  269.,  351., 1567.,   99.,  219.],\n",
    "       [  28.,   12.,   81.,    0.,   43.,  108.,  345.,    5.],\n",
    "       [  30.,   59.,  101.,   27.,   85.,  123.,   11.,  700.]])  #from evaluate_2_150_voiced_unvoiced_bis_test-selected_languages"
   ]
  },
  {
   "cell_type": "code",
   "execution_count": null,
   "id": "250e3d1c",
   "metadata": {},
   "outputs": [],
   "source": [
    "languages_test_permut=['Dutch',\n",
    " 'English',\n",
    " 'French',\n",
    " 'Polish',\n",
    " 'Italian',\n",
    " 'Spanish',\n",
    " 'Catalan',\n",
    " 'Japanese']"
   ]
  },
  {
   "cell_type": "raw",
   "id": "93a9be9a",
   "metadata": {},
   "source": [
    "#switch Polish \n",
    "\n",
    "mat=np.array([[1293.,  211.,  132.,   81.,  117.,  289.,   78.,   33.],\n",
    "       [ 525., 1372.,  239.,  100.,   48.,  165.,   22.,  104.],\n",
    "       [  73.,   38.,  988.,   97.,   18.,   82.,    0.,   79.],\n",
    "       [ 175.,  198.,  451., 1126.,  278.,  281.,   39.,  168.],\n",
    "       [ 127.,  137.,  187.,  228.,  986.,  441.,   37.,  206.],\n",
    "       [  79.,   44.,  269.,   91.,  351., 1567.,   99.,  219.],\n",
    "       [  28.,   12.,    0.,   81.,   43.,  108.,  345.,    5.],\n",
    "       [  30.,   59.,   27.,  101.,   85.,  123.,   11.,  700.]])\n",
    "\n",
    "languages_test_permut=[\n",
    " 'Dutch',\n",
    " 'English',\n",
    "'Polish',\n",
    " 'French',\n",
    " 'Italian',\n",
    " 'Spanish',\n",
    " 'Catalan',\n",
    " 'Japanese']"
   ]
  },
  {
   "cell_type": "code",
   "execution_count": null,
   "id": "bddb5773",
   "metadata": {},
   "outputs": [],
   "source": [
    "a=0.1\n",
    "def sigm(x):\n",
    "    global a\n",
    "    return 1/(1 + np.exp(-a*x)) + 0.5*x/100"
   ]
  },
  {
   "cell_type": "code",
   "execution_count": null,
   "id": "497527db",
   "metadata": {},
   "outputs": [],
   "source": [
    "def plot_distance_matrix(dm, classes, normalize=False, title='Distance matrix', \n",
    "                          cmap=pl.cm.Blues, vmin=0, vmax=4, invert_colors=False):\n",
    "    \"\"\"\n",
    "    This function prints and plots the confusion matrix.\n",
    "    Normalization can be applied by setting `normalize=True`.\n",
    "    \"\"\"\n",
    "\n",
    "    if normalize:\n",
    "        dm = dm.astype('float') / (0.00001+dm.sum(axis=1)[:, np.newaxis])\n",
    "        dm = np.round(dm*100, decimals=2)\n",
    "\n",
    "    #print(cm)\n",
    "    \n",
    "    #pl.imshow(-np.log2(dm), interpolation='nearest', cmap=cmap, vmax=-3,vmin=-5)\n",
    "    #pl.imshow(-dm, interpolation='nearest', cmap=cmap, vmax=-8,vmin=-17)\n",
    "    if not(invert_colors):\n",
    "        #pl.imshow(-dm, interpolation='nearest', cmap=cmap, vmin=-vmax, vmax=-vmin)\n",
    "        #HACK\n",
    "        pl.imshow(-sigm(dm), interpolation='nearest', cmap=cmap, vmin=-sigm(vmax), vmax=-sigm(vmin))\n",
    "        \n",
    "    else:\n",
    "        pl.imshow(sigm(dm), interpolation='nearest', cmap=cmap, vmin=sigm(vmin), vmax=sigm(vmax))\n",
    "    \n",
    "    pl.title(title)\n",
    "    #pl.colorbar()\n",
    "    tick_marks = np.arange(len(classes))\n",
    "    pl.xticks(tick_marks, classes, rotation=45)\n",
    "    pl.yticks(tick_marks, classes)\n",
    "\n",
    "    thresh = dm.max()*(1-2*invert_colors)  / 2.\n",
    "    for i, j in itertools.product(range(dm.shape[0]), range(dm.shape[1])):\n",
    "        pl.text(j, i, int(dm[i,j]*100)*1./100,\n",
    "                 horizontalalignment=\"center\",\n",
    "                 color=\"white\" if dm[i, j]*(1-2*invert_colors) < thresh else \"black\")\n",
    "\n",
    "    #pl.tight_layout()\n",
    "    pl.ylabel('Label1 (reference)')\n",
    "    pl.xlabel('Label2')\n",
    "    "
   ]
  },
  {
   "cell_type": "code",
   "execution_count": null,
   "id": "3b87f874",
   "metadata": {},
   "outputs": [],
   "source": [
    "cm=mpl.colormaps"
   ]
  },
  {
   "cell_type": "code",
   "execution_count": null,
   "id": "134348e6",
   "metadata": {},
   "outputs": [],
   "source": [
    "b_slider=widgets.FloatSlider(min=0, max=0.3, step=0.01, value=0.06)\n",
    "vmin_slider=widgets.IntSlider(min=0, max=20, step=1, value=3)\n",
    "vmax_slider=widgets.IntSlider(min=50, max=70, step=1, value=66)\n"
   ]
  },
  {
   "cell_type": "code",
   "execution_count": null,
   "id": "bfdf39c2",
   "metadata": {},
   "outputs": [],
   "source": [
    "@interact(b=b_slider, vmin=vmin_slider,  vmax=vmax_slider)\n",
    "def myPlot_purples(b, vmin, vmax):\n",
    "    global a\n",
    "    a=b\n",
    "    \n",
    "    pl.figure(figsize=(6,6))\n",
    "    pl.ylim([7.5, -0.5])\n",
    "    plot_distance_matrix(mat, languages_test_permut , normalize=True, vmin=vmin, vmax=vmax, \n",
    "                                 cmap=cm['Purples'], invert_colors=True, title='Confusion matrix')\n",
    "\n",
    "    \n",
    "    #pl.savefig('conf_matrix.svg')\n",
    "    "
   ]
  },
  {
   "cell_type": "code",
   "execution_count": null,
   "id": "23b8f311",
   "metadata": {},
   "outputs": [],
   "source": [
    "@interact(b=b_slider, vmin=vmin_slider,  vmax=vmax_slider)\n",
    "def myPlot_devon(b, vmin, vmax):\n",
    "    global a\n",
    "    a=b\n",
    "    \n",
    "    pl.figure(figsize=(6,6))\n",
    "    pl.ylim([7.5, -0.5])\n",
    "    plot_distance_matrix(mat, languages_test_permut , normalize=True, vmin=vmin, vmax=vmax, \n",
    "                                 cmap=cmc.devon_r, invert_colors=True, title='Confusion matrix')\n",
    "\n",
    "    \n",
    "    #pl.savefig('conf_matrix2.svg')\n",
    "    "
   ]
  },
  {
   "cell_type": "code",
   "execution_count": null,
   "id": "fbfc9207",
   "metadata": {},
   "outputs": [],
   "source": [
    "@interact(b=copy(b_slider), vmin=copy(vmin_slider),  vmax=copy(vmax_slider))\n",
    "def myCmap_purples(b, vmin, vmax):\n",
    "    global a\n",
    "    a=b\n",
    "    \n",
    "    \n",
    "    cmap = cm['Purples']\n",
    "    \n",
    "    arr= (sigm(np.linspace(0,50, 1000)) - sigm(vmin))/(sigm(vmax)- sigm(vmin))\n",
    "    #arr=np.linspace(0,1)\n",
    "\n",
    "    colors = cmap(arr)\n",
    "\n",
    "\n",
    "    colors=np.array([colors])\n",
    "    pl.imshow(colors, extent=[0, 5, 0, 0.5])\n",
    "    \n",
    "    #pl.savefig('mycmap.svg')\n",
    "    \n",
    "    "
   ]
  },
  {
   "cell_type": "code",
   "execution_count": null,
   "id": "98b8e4a8",
   "metadata": {},
   "outputs": [],
   "source": [
    "@interact(b=copy(b_slider), vmin=copy(vmin_slider),  vmax=copy(vmax_slider))\n",
    "def myCmap_devon(b, vmin, vmax):\n",
    "    global a\n",
    "    a=b\n",
    "    \n",
    "    \n",
    "    cmap = cmc.devon_r\n",
    "    \n",
    "    arr= (sigm(np.linspace(0,70, 1000)) - sigm(vmin))/(sigm(vmax)- sigm(vmin))\n",
    "    #arr=np.linspace(0,1)\n",
    "\n",
    "    colors = cmap(arr)\n",
    "\n",
    "\n",
    "    colors=np.array([colors])\n",
    "    pl.imshow(colors, extent=[0, 7, 0, 0.5])\n",
    "    \n",
    "    #pl.savefig('mycmap2.svg')\n",
    "    \n",
    "    "
   ]
  },
  {
   "cell_type": "code",
   "execution_count": null,
   "id": "0ffca485",
   "metadata": {},
   "outputs": [],
   "source": [
    "colors"
   ]
  },
  {
   "cell_type": "code",
   "execution_count": null,
   "id": "908c033f",
   "metadata": {},
   "outputs": [],
   "source": []
  }
 ],
 "metadata": {
  "kernelspec": {
   "display_name": "Python 3 (ipykernel)",
   "language": "python",
   "name": "python3"
  },
  "language_info": {
   "codemirror_mode": {
    "name": "ipython",
    "version": 3
   },
   "file_extension": ".py",
   "mimetype": "text/x-python",
   "name": "python",
   "nbconvert_exporter": "python",
   "pygments_lexer": "ipython3",
   "version": "3.9.12"
  }
 },
 "nbformat": 4,
 "nbformat_minor": 5
}
